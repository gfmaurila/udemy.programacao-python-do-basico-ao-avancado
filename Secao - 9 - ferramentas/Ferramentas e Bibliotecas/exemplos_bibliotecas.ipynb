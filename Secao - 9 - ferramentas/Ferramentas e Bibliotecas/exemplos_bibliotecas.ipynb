{
 "cells": [
  {
   "cell_type": "markdown",
   "id": "32b0f1b4",
   "metadata": {},
   "source": [
    "## 📦 Guia de Bibliotecas Python com Exemplos"
   ]
  },
  {
   "cell_type": "markdown",
   "id": "e8fd315a",
   "metadata": {},
   "source": [
    "📦 GUIA DE FERRAMENTAS E BIBLIOTECAS PYTHON COM EXEMPLOS"
   ]
  },
  {
   "cell_type": "markdown",
   "id": "b59aeb8f",
   "metadata": {},
   "source": [
    "🔹 FLASK - Criação de Aplicações Web\n",
    "\n",
    "📘 O que é:\n",
    "Framework leve para criar APIs e sites com Python.\n",
    "\n",
    "📄 Exemplo:\n",
    "from flask import Flask\n",
    "app = Flask(__name__)\n",
    "\n",
    "@app.route('/')\n",
    "def home():\n",
    "    return \"Olá, Flask!\"\n",
    "\n",
    "app.run(debug=True)"
   ]
  },
  {
   "cell_type": "markdown",
   "id": "ef4bfc8c",
   "metadata": {},
   "source": [
    "🔹 DJANGO - Framework Web Completo\n",
    "\n",
    "📘 O que é:\n",
    "Framework robusto e completo para aplicações web com autenticação, ORM e painel administrativo.\n",
    "\n",
    "📄 Exemplo de View:\n",
    "from django.http import HttpResponse\n",
    "\n",
    "def minha_view(request):\n",
    "    return HttpResponse(\"Olá, Django!\")"
   ]
  },
  {
   "cell_type": "markdown",
   "id": "c7b8f85c",
   "metadata": {},
   "source": [
    "🔹 SCRAPY - Coleta de Dados (Web Scraping)\n",
    "\n",
    "📘 O que é:\n",
    "Framework para extrair dados de sites (scraping) de forma rápida e estruturada.\n",
    "\n",
    "📄 Exemplo:\n",
    "import scrapy\n",
    "\n",
    "class MeuSpider(scrapy.Spider):\n",
    "    name = \"exemplo\"\n",
    "    start_urls = ['https://example.com']\n",
    "\n",
    "    def parse(self, response):\n",
    "        titulo = response.xpath('//title/text()').get()\n",
    "        print(\"Título:\", titulo)"
   ]
  },
  {
   "cell_type": "markdown",
   "id": "e693f686",
   "metadata": {},
   "source": [
    "🔹 KERAS - Machine Learning e Deep Learning\n",
    "\n",
    "📘 O que é:\n",
    "Biblioteca de alto nível para criar redes neurais com poucas linhas de código.\n",
    "\n",
    "📄 Exemplo:\n",
    "from keras.models import Sequential\n",
    "from keras.layers import Dense\n",
    "\n",
    "modelo = Sequential()\n",
    "modelo.add(Dense(units=10, input_dim=2, activation='relu'))\n",
    "modelo.add(Dense(units=1, activation='sigmoid'))\n",
    "modelo.compile(loss='binary_crossentropy', optimizer='adam')\n",
    "print(modelo.summary())"
   ]
  },
  {
   "cell_type": "markdown",
   "id": "3a595bb3",
   "metadata": {},
   "source": [
    "🔹 PIP - Gerenciador de Pacotes\n",
    "\n",
    "📘 O que é:\n",
    "Comando usado para instalar bibliotecas do Python.\n",
    "\n",
    "📄 Exemplo:\n",
    "pip install pandas\n",
    "pip install flask"
   ]
  },
  {
   "cell_type": "markdown",
   "id": "a602db71",
   "metadata": {},
   "source": [
    "🔹 PANDAS - Análise de Dados\n",
    "\n",
    "📘 O que é:\n",
    "Biblioteca para manipular e analisar dados estruturados (como tabelas).\n",
    "\n",
    "📄 Exemplo:\n",
    "import pandas as pd\n",
    "\n",
    "df = pd.read_csv(\"dados.csv\")\n",
    "print(df.groupby(\"categoria\")[\"valor\"].sum())"
   ]
  },
  {
   "cell_type": "markdown",
   "id": "b7a85ade",
   "metadata": {},
   "source": [
    "🔹 NUMPY - Cálculo Numérico e Vetorial\n",
    "\n",
    "📘 O que é:\n",
    "Biblioteca para cálculos rápidos com arrays, vetores e matrizes.\n",
    "\n",
    "📄 Exemplo:\n",
    "import numpy as np\n",
    "\n",
    "valores = np.array([1, 2, 3])\n",
    "print(\"Soma:\", np.sum(valores))\n",
    "print(\"Média:\", np.mean(valores))"
   ]
  },
  {
   "cell_type": "markdown",
   "id": "76141266",
   "metadata": {},
   "source": [
    "🔹 SQLITE - Banco de Dados Local\n",
    "\n",
    "📘 O que é:\n",
    "Banco de dados leve embutido no Python (sem precisar instalar nada).\n",
    "\n",
    "📄 Exemplo:\n",
    "import sqlite3\n",
    "\n",
    "con = sqlite3.connect(\"banco.db\")\n",
    "cursor = con.cursor()\n",
    "\n",
    "cursor.execute(\"CREATE TABLE IF NOT EXISTS clientes (id INTEGER PRIMARY KEY, nome TEXT)\")\n",
    "cursor.execute(\"INSERT INTO clientes (nome) VALUES ('Maria')\")\n",
    "con.commit()\n",
    "\n",
    "for linha in cursor.execute(\"SELECT * FROM clientes\"):\n",
    "    print(linha)\n",
    "\n",
    "con.close()"
   ]
  },
  {
   "cell_type": "markdown",
   "id": "8d7b7a7e",
   "metadata": {},
   "source": [
    "Essas bibliotecas são essenciais para automação, ciência de dados, web, inteligência artificial e banco de dados."
   ]
  }
 ],
 "metadata": {},
 "nbformat": 4,
 "nbformat_minor": 5
}