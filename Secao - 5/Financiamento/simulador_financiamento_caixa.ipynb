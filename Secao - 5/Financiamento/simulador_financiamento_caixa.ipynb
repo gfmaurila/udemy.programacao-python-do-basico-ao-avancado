{
 "cells": [
  {
   "cell_type": "markdown",
   "id": "f074bbd3",
   "metadata": {},
   "source": [
    "# 🏠 Simulador de Financiamento Imobiliário - Caixa Econômica Federal"
   ]
  },
  {
   "cell_type": "code",
   "execution_count": null,
   "id": "178d8835",
   "metadata": {},
   "outputs": [],
   "source": [
    "\n",
    "def calcular_financiamento(valor_total, entrada, prazo_meses, juros_anual):\n",
    "    valor_financiado = valor_total - entrada\n",
    "    juros_mensal = (juros_anual / 100) / 12\n",
    "\n",
    "    # Fórmula da Tabela PRICE\n",
    "    pmt = valor_financiado * juros_mensal / (1 - (1 + juros_mensal) ** -prazo_meses)\n",
    "    total_pago = pmt * prazo_meses\n",
    "    total_juros = total_pago - valor_financiado\n",
    "\n",
    "    return pmt, total_pago, total_juros\n",
    "\n",
    "try:\n",
    "    valor_total = float(input(\"Digite o valor total do imóvel: R$ \"))\n",
    "    entrada = float(input(\"Digite o valor de entrada: R$ \"))\n",
    "    prazo_meses = int(input(\"Digite a quantidade de meses (prazo): \"))\n",
    "    juros_anual = float(input(\"Digite a taxa de juros anual (%): \"))\n",
    "\n",
    "    prestacao, total, juros = calcular_financiamento(valor_total, entrada, prazo_meses, juros_anual)\n",
    "\n",
    "    print(f\"\\nValor da prestação mensal: R$ {prestacao:.2f}\")\n",
    "    print(f\"Valor total a ser pago: R$ {total:.2f}\")\n",
    "    print(f\"Valor total em juros: R$ {juros:.2f}\")\n",
    "except ValueError:\n",
    "    print(\"Erro: entradas inválidas. Verifique os valores digitados.\")\n"
   ]
  }
 ],
 "metadata": {},
 "nbformat": 4,
 "nbformat_minor": 5
}