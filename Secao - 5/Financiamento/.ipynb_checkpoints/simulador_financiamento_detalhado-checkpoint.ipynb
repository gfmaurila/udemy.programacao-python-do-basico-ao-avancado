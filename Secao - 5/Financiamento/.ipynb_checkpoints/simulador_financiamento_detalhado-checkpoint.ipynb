{
 "cells": [
  {
   "cell_type": "markdown",
   "id": "3276689e",
   "metadata": {},
   "source": [
    "# 📊 Simulador de Financiamento Imobiliário com Extrato Detalhado - Caixa"
   ]
  },
  {
   "cell_type": "code",
   "execution_count": null,
   "id": "c505d191",
   "metadata": {},
   "outputs": [],
   "source": [
    "\n",
    "def calcular_financiamento_com_extrato(valor_total, entrada, prazo_meses, juros_anual):\n",
    "    valor_financiado = valor_total - entrada\n",
    "    juros_mensal = (juros_anual / 100) / 12\n",
    "    pmt = valor_financiado * juros_mensal / (1 - (1 + juros_mensal) ** -prazo_meses)\n",
    "\n",
    "    extrato = []\n",
    "    saldo = valor_financiado\n",
    "\n",
    "    for mes in range(1, prazo_meses + 1):\n",
    "        juros_mes = saldo * juros_mensal\n",
    "        amortizacao = pmt - juros_mes\n",
    "        saldo -= amortizacao\n",
    "        extrato.append({\n",
    "            \"Mês\": mes,\n",
    "            \"Prestação\": round(pmt, 2),\n",
    "            \"Juros\": round(juros_mes, 2),\n",
    "            \"Amortização\": round(amortizacao, 2),\n",
    "            \"Saldo Devedor\": round(max(saldo, 0), 2)\n",
    "        })\n",
    "\n",
    "    total_pago = pmt * prazo_meses\n",
    "    total_juros = total_pago - valor_financiado\n",
    "\n",
    "    return pmt, total_pago, total_juros, extrato\n",
    "\n",
    "try:\n",
    "    valor_total = float(input(\"Digite o valor total do imóvel: R$ \"))\n",
    "    entrada = float(input(\"Digite o valor de entrada: R$ \"))\n",
    "    prazo_meses = int(input(\"Digite a quantidade de meses (prazo): \"))\n",
    "    juros_anual = float(input(\"Digite a taxa de juros anual (%): \"))\n",
    "\n",
    "    prestacao, total, juros, extrato = calcular_financiamento_com_extrato(\n",
    "        valor_total, entrada, prazo_meses, juros_anual)\n",
    "\n",
    "    print(f\"\\nValor da prestação mensal: R$ {prestacao:.2f}\")\n",
    "    print(f\"Valor total a ser pago: R$ {total:.2f}\")\n",
    "    print(f\"Valor total em juros: R$ {juros:.2f}\")\n",
    "\n",
    "    import pandas as pd\n",
    "    df = pd.DataFrame(extrato)\n",
    "    display(df.head(12))  # mostra os 12 primeiros meses (1 ano)\n",
    "except ValueError:\n",
    "    print(\"Erro: entradas inválidas. Verifique os valores digitados.\")\n"
   ]
  }
 ],
 "metadata": {},
 "nbformat": 4,
 "nbformat_minor": 5
}