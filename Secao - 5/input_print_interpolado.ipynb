{
 "cells": [
  {
   "cell_type": "markdown",
   "id": "bfa8a32f",
   "metadata": {},
   "source": [
    "# Exemplos de Interpolação com `input()` e `print()`"
   ]
  },
  {
   "cell_type": "code",
   "execution_count": null,
   "id": "2c01f446",
   "metadata": {},
   "outputs": [],
   "source": [
    "\n",
    "# Entrada de dados\n",
    "nome = input(\"Digite seu nome: \")\n",
    "idade = int(input(\"Digite sua idade: \"))\n",
    "altura = float(input(\"Digite sua altura em metros: \"))\n"
   ]
  },
  {
   "cell_type": "markdown",
   "id": "bf87c631",
   "metadata": {},
   "source": [
    "## 1. Concatenando com `+`"
   ]
  },
  {
   "cell_type": "code",
   "execution_count": null,
   "id": "9e402480",
   "metadata": {},
   "outputs": [],
   "source": [
    "\n",
    "print(\"Olá, meu nome é \" + nome + \" e tenho \" + str(idade) + \" anos.\")\n"
   ]
  },
  {
   "cell_type": "markdown",
   "id": "dbb348a7",
   "metadata": {},
   "source": [
    "## 2. Usando vírgula no print"
   ]
  },
  {
   "cell_type": "code",
   "execution_count": null,
   "id": "5a897b2e",
   "metadata": {},
   "outputs": [],
   "source": [
    "\n",
    "print(\"Olá,\", nome, \"e tenho\", idade, \"anos.\")\n"
   ]
  },
  {
   "cell_type": "markdown",
   "id": "e12bb838",
   "metadata": {},
   "source": [
    "## 3. Usando `.format()`"
   ]
  },
  {
   "cell_type": "code",
   "execution_count": null,
   "id": "068743aa",
   "metadata": {},
   "outputs": [],
   "source": [
    "\n",
    "print(\"Olá, meu nome é {} e tenho {} anos.\".format(nome, idade))\n"
   ]
  },
  {
   "cell_type": "markdown",
   "id": "8b5a4f48",
   "metadata": {},
   "source": [
    "## 4. `.format()` com índices"
   ]
  },
  {
   "cell_type": "code",
   "execution_count": null,
   "id": "7cf6ff3b",
   "metadata": {},
   "outputs": [],
   "source": [
    "\n",
    "print(\"Altura: {1} m - Nome: {0}\".format(nome, altura))\n"
   ]
  },
  {
   "cell_type": "markdown",
   "id": "d1fd767f",
   "metadata": {},
   "source": [
    "## 5. Usando f-strings (moderno e recomendado)"
   ]
  },
  {
   "cell_type": "code",
   "execution_count": null,
   "id": "35572165",
   "metadata": {},
   "outputs": [],
   "source": [
    "\n",
    "print(f\"Olá, meu nome é {nome}, tenho {idade} anos e {altura}m de altura.\")\n"
   ]
  },
  {
   "cell_type": "markdown",
   "id": "3122b254",
   "metadata": {},
   "source": [
    "## 6. Estilo antigo com `%`"
   ]
  },
  {
   "cell_type": "code",
   "execution_count": null,
   "id": "fc964fc0",
   "metadata": {},
   "outputs": [],
   "source": [
    "\n",
    "print(\"Nome: %s | Idade: %d | Altura: %.2f\" % (nome, idade, altura))\n"
   ]
  },
  {
   "cell_type": "markdown",
   "id": "7be5560b",
   "metadata": {},
   "source": [
    "## Extra: Formatação de decimais e alinhamento"
   ]
  },
  {
   "cell_type": "code",
   "execution_count": null,
   "id": "4de72ca1",
   "metadata": {},
   "outputs": [],
   "source": [
    "\n",
    "print(f\"Altura formatada: {altura:.2f} m\")         # duas casas decimais\n",
    "print(f\"Nome alinhado à direita: {nome:>10}\")     # 10 caracteres, à direita\n",
    "print(f\"Nome alinhado à esquerda: {nome:<10}\")    # 10 caracteres, à esquerda\n"
   ]
  }
 ],
 "metadata": {},
 "nbformat": 4,
 "nbformat_minor": 5
}