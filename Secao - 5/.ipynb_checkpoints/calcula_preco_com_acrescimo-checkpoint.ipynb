{
 "cells": [
  {
   "cell_type": "markdown",
   "id": "04126b29",
   "metadata": {},
   "source": [
    "# 💰 Programa: Cálculo de 10% sobre valor do produto"
   ]
  },
  {
   "cell_type": "code",
   "execution_count": null,
   "id": "d072225d",
   "metadata": {},
   "outputs": [],
   "source": [
    "\n",
    "try:\n",
    "    valor = float(input(\"Digite o valor do produto: R$ \"))\n",
    "    acrescimo = valor * 0.10\n",
    "    valor_final = valor + acrescimo\n",
    "\n",
    "    print(f\"Valor original: R$ {valor:.2f}\")\n",
    "    print(f\"Acréscimo de 10%: R$ {acrescimo:.2f}\")\n",
    "    print(f\"Valor final com acréscimo: R$ {valor_final:.2f}\")\n",
    "except ValueError:\n",
    "    print(\"Erro: Digite um número válido.\")\n"
   ]
  }
 ],
 "metadata": {},
 "nbformat": 4,
 "nbformat_minor": 5
}