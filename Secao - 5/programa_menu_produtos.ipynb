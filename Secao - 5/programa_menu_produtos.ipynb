{
 "cells": [
  {
   "cell_type": "markdown",
   "id": "478375c4",
   "metadata": {},
   "source": [
    "# 🛒 Programa com Menu e Cálculo de Acréscimo (10%)"
   ]
  },
  {
   "cell_type": "code",
   "execution_count": null,
   "id": "5ddfb704",
   "metadata": {},
   "outputs": [],
   "source": [
    "\n",
    "def calcular_preco_com_acrescimo(valor):\n",
    "    acrescimo = valor * 0.10\n",
    "    valor_final = valor + acrescimo\n",
    "    return valor, acrescimo, valor_final\n",
    "\n",
    "while True:\n",
    "    print(\"\\n--- MENU ---\")\n",
    "    print(\"1 - Calcular preço com acréscimo de 10%\")\n",
    "    print(\"2 - Sair\")\n",
    "\n",
    "    opcao = input(\"Escolha uma opção: \")\n",
    "\n",
    "    if opcao == \"1\":\n",
    "        try:\n",
    "            valor = float(input(\"Digite o valor do produto: R$ \"))\n",
    "            original, acrescimo, total = calcular_preco_com_acrescimo(valor)\n",
    "            print(f\"Valor original: R$ {original:.2f}\")\n",
    "            print(f\"Acréscimo de 10%: R$ {acrescimo:.2f}\")\n",
    "            print(f\"Valor final com acréscimo: R$ {total:.2f}\")\n",
    "        except ValueError:\n",
    "            print(\"Erro: entrada inválida. Digite um número válido.\")\n",
    "    elif opcao == \"2\":\n",
    "        print(\"Saindo do programa...\")\n",
    "        break\n",
    "    else:\n",
    "        print(\"Opção inválida. Tente novamente.\")\n"
   ]
  }
 ],
 "metadata": {},
 "nbformat": 4,
 "nbformat_minor": 5
}