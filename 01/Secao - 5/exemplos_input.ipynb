{
 "cells": [
  {
   "cell_type": "markdown",
   "id": "01fd6f07",
   "metadata": {},
   "source": [
    "# Exemplos de `input()` em Python"
   ]
  },
  {
   "cell_type": "code",
   "execution_count": null,
   "id": "b08ccef5",
   "metadata": {},
   "outputs": [],
   "source": [
    "\n",
    "# 1. Entrada simples de texto\n",
    "nome = input(\"Digite seu nome: \")  # Usuário digita algo e é armazenado na variável 'nome'\n",
    "print(\"Olá,\", nome)\n"
   ]
  },
  {
   "cell_type": "code",
   "execution_count": null,
   "id": "22144bda",
   "metadata": {},
   "outputs": [],
   "source": [
    "\n",
    "# 2. Entrada de número inteiro\n",
    "idade = int(input(\"Digite sua idade: \"))  # Converte a entrada de string para int\n",
    "print(\"Você tem\", idade, \"anos.\")\n"
   ]
  },
  {
   "cell_type": "code",
   "execution_count": null,
   "id": "788b3846",
   "metadata": {},
   "outputs": [],
   "source": [
    "\n",
    "# 3. Entrada de número decimal\n",
    "altura = float(input(\"Digite sua altura em metros: \"))  # Converte para float\n",
    "print(\"Sua altura é:\", altura, \"m\")\n"
   ]
  },
  {
   "cell_type": "code",
   "execution_count": null,
   "id": "a7529322",
   "metadata": {},
   "outputs": [],
   "source": [
    "\n",
    "# 4. Entrada e separação de múltiplos dados\n",
    "entrada = input(\"Digite seu nome e idade separados por vírgula: \")  # Ex: Ana,30\n",
    "nome2, idade2 = entrada.split(\",\")  # Divide a string em duas partes\n",
    "print(\"Nome:\", nome2)\n",
    "print(\"Idade:\", idade2)\n"
   ]
  },
  {
   "cell_type": "code",
   "execution_count": null,
   "id": "a829c510",
   "metadata": {},
   "outputs": [],
   "source": [
    "\n",
    "# 5. Usando map() para converter múltiplos números\n",
    "numeros = list(map(int, input(\"Digite 3 números separados por espaço: \").split()))\n",
    "print(\"Números digitados:\", numeros)\n"
   ]
  },
  {
   "cell_type": "code",
   "execution_count": null,
   "id": "6371a99b",
   "metadata": {},
   "outputs": [],
   "source": [
    "\n",
    "# 6. Entrada de lista de palavras e ordenação\n",
    "palavras = input(\"Digite palavras separadas por espaço: \").split()\n",
    "palavras.sort()\n",
    "print(\"Palavras ordenadas:\", palavras)\n"
   ]
  },
  {
   "cell_type": "code",
   "execution_count": null,
   "id": "5120c7b3",
   "metadata": {},
   "outputs": [],
   "source": [
    "\n",
    "# 7. Entrada condicional\n",
    "resposta = input(\"Deseja continuar? (s/n): \").lower()\n",
    "if resposta == \"s\":\n",
    "    print(\"Continuando...\")\n",
    "else:\n",
    "    print(\"Encerrando...\")\n"
   ]
  }
 ],
 "metadata": {},
 "nbformat": 4,
 "nbformat_minor": 5
}