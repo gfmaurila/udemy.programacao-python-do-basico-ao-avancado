{
 "cells": [
  {
   "cell_type": "markdown",
   "id": "0a69ffb3",
   "metadata": {},
   "source": [
    "# Exemplos: Tipos de Dados com `input()` em Python"
   ]
  },
  {
   "cell_type": "markdown",
   "id": "9d2d3c44",
   "metadata": {},
   "source": [
    "## 📥 Entrada padrão via `input()`"
   ]
  },
  {
   "cell_type": "code",
   "execution_count": null,
   "id": "8dd7fdcd",
   "metadata": {},
   "outputs": [],
   "source": [
    "\n",
    "texto = input(\"Digite um texto: \")\n",
    "print(\"Tipo:\", type(texto), \"| Valor:\", texto)\n"
   ]
  },
  {
   "cell_type": "markdown",
   "id": "58bca400",
   "metadata": {},
   "source": [
    "## 🔢 Convertendo para `int`"
   ]
  },
  {
   "cell_type": "code",
   "execution_count": null,
   "id": "620e48fe",
   "metadata": {},
   "outputs": [],
   "source": [
    "\n",
    "numero_inteiro = int(input(\"Digite um número inteiro: \"))\n",
    "print(\"Tipo:\", type(numero_inteiro), \"| Valor:\", numero_inteiro)\n"
   ]
  },
  {
   "cell_type": "markdown",
   "id": "8687bea5",
   "metadata": {},
   "source": [
    "## 🔣 Convertendo para `float`"
   ]
  },
  {
   "cell_type": "code",
   "execution_count": null,
   "id": "af182ddb",
   "metadata": {},
   "outputs": [],
   "source": [
    "\n",
    "numero_decimal = float(input(\"Digite um número decimal: \"))\n",
    "print(\"Tipo:\", type(numero_decimal), \"| Valor:\", numero_decimal)\n"
   ]
  },
  {
   "cell_type": "markdown",
   "id": "9d281557",
   "metadata": {},
   "source": [
    "## ✅ Convertendo para `bool`"
   ]
  },
  {
   "cell_type": "code",
   "execution_count": null,
   "id": "2b0751a1",
   "metadata": {},
   "outputs": [],
   "source": [
    "\n",
    "resposta = input(\"Você quer continuar? (s/n): \")\n",
    "bool_valor = resposta.lower() in [\"s\", \"sim\", \"yes\"]\n",
    "print(\"Tipo:\", type(bool_valor), \"| Valor:\", bool_valor)\n"
   ]
  },
  {
   "cell_type": "markdown",
   "id": "7aeab747",
   "metadata": {},
   "source": [
    "## 📋 Convertendo para `list` com `split()`"
   ]
  },
  {
   "cell_type": "code",
   "execution_count": null,
   "id": "175d7309",
   "metadata": {},
   "outputs": [],
   "source": [
    "\n",
    "lista = input(\"Digite itens separados por espaço: \").split()\n",
    "print(\"Tipo:\", type(lista), \"| Valor:\", lista)\n"
   ]
  },
  {
   "cell_type": "markdown",
   "id": "e7e96307",
   "metadata": {},
   "source": [
    "## 🧾 Convertendo múltiplos valores com `map()`"
   ]
  },
  {
   "cell_type": "code",
   "execution_count": null,
   "id": "3ee0f2a4",
   "metadata": {},
   "outputs": [],
   "source": [
    "\n",
    "valores = list(map(int, input(\"Digite números separados por espaço: \").split()))\n",
    "print(\"Tipo:\", type(valores), \"| Valor:\", valores)\n"
   ]
  }
 ],
 "metadata": {},
 "nbformat": 4,
 "nbformat_minor": 5
}