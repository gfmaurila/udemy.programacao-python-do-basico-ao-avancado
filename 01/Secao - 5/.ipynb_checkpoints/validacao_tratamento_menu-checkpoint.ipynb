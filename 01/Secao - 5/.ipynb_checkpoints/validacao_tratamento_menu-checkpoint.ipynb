{
 "cells": [
  {
   "cell_type": "markdown",
   "id": "39efb54f",
   "metadata": {},
   "source": [
    "# Validação de Entrada, Tratamento de Erros e Menu Interativo em Python"
   ]
  },
  {
   "cell_type": "markdown",
   "id": "e88a7077",
   "metadata": {},
   "source": [
    "## ✅ Validação Simples de Número"
   ]
  },
  {
   "cell_type": "code",
   "execution_count": null,
   "id": "87ce7174",
   "metadata": {},
   "outputs": [],
   "source": [
    "\n",
    "idade = input(\"Digite sua idade: \")\n",
    "if idade.isdigit():\n",
    "    idade = int(idade)\n",
    "    print(\"Idade válida:\", idade)\n",
    "else:\n",
    "    print(\"Erro: idade deve ser um número inteiro.\")\n"
   ]
  },
  {
   "cell_type": "markdown",
   "id": "6387763b",
   "metadata": {},
   "source": [
    "## 🚨 Tratamento de Erros com try/except"
   ]
  },
  {
   "cell_type": "code",
   "execution_count": null,
   "id": "500cdd7d",
   "metadata": {},
   "outputs": [],
   "source": [
    "\n",
    "try:\n",
    "    numero = int(input(\"Digite um número inteiro: \"))\n",
    "    print(\"Número digitado:\", numero)\n",
    "except ValueError:\n",
    "    print(\"Erro: isso não é um número inteiro.\")\n"
   ]
  },
  {
   "cell_type": "markdown",
   "id": "c1d5a3d3",
   "metadata": {},
   "source": [
    "## 🧾 Menu Interativo com Loop"
   ]
  },
  {
   "cell_type": "code",
   "execution_count": null,
   "id": "a654210b",
   "metadata": {},
   "outputs": [],
   "source": [
    "\n",
    "while True:\n",
    "    print(\"\\nMENU\")\n",
    "    print(\"1 - Saudação\")\n",
    "    print(\"2 - Somar dois números\")\n",
    "    print(\"3 - Sair\")\n",
    "\n",
    "    opcao = input(\"Escolha uma opção: \")\n",
    "\n",
    "    if opcao == \"1\":\n",
    "        nome = input(\"Digite seu nome: \")\n",
    "        print(f\"Olá, {nome}!\")\n",
    "    elif opcao == \"2\":\n",
    "        try:\n",
    "            n1 = float(input(\"Número 1: \"))\n",
    "            n2 = float(input(\"Número 2: \"))\n",
    "            print(f\"Soma: {n1 + n2}\")\n",
    "        except ValueError:\n",
    "            print(\"Erro: entrada inválida.\")\n",
    "    elif opcao == \"3\":\n",
    "        print(\"Saindo do menu...\")\n",
    "        break\n",
    "    else:\n",
    "        print(\"Opção inválida. Tente novamente.\")\n"
   ]
  }
 ],
 "metadata": {},
 "nbformat": 4,
 "nbformat_minor": 5
}