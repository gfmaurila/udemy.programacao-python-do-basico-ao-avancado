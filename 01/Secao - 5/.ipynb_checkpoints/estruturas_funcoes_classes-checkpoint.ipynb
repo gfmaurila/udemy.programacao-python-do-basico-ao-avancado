{
 "cells": [
  {
   "cell_type": "markdown",
   "id": "f5ddbf43",
   "metadata": {},
   "source": [
    "# Estruturas de Repetição, Funções e Classes em Python"
   ]
  },
  {
   "cell_type": "markdown",
   "id": "12a83827",
   "metadata": {},
   "source": [
    "## 🔁 Estrutura de repetição `while`"
   ]
  },
  {
   "cell_type": "code",
   "execution_count": null,
   "id": "51a76025",
   "metadata": {},
   "outputs": [],
   "source": [
    "\n",
    "contador = 0\n",
    "while contador < 5:\n",
    "    print(\"Contador:\", contador)\n",
    "    contador += 1\n"
   ]
  },
  {
   "cell_type": "markdown",
   "id": "a1e10cae",
   "metadata": {},
   "source": [
    "## 🔁 Estrutura de repetição `for`"
   ]
  },
  {
   "cell_type": "code",
   "execution_count": null,
   "id": "559c9a13",
   "metadata": {},
   "outputs": [],
   "source": [
    "\n",
    "nomes = [\"Ana\", \"Bruno\", \"Carlos\"]\n",
    "for nome in nomes:\n",
    "    print(\"Nome:\", nome)\n"
   ]
  },
  {
   "cell_type": "markdown",
   "id": "b45c0cc4",
   "metadata": {},
   "source": [
    "## 🧮 Funções personalizadas"
   ]
  },
  {
   "cell_type": "code",
   "execution_count": null,
   "id": "57dd12fc",
   "metadata": {},
   "outputs": [],
   "source": [
    "\n",
    "def saudacao(nome):\n",
    "    print(f\"Olá, {nome}!\")\n",
    "\n",
    "def soma(a, b):\n",
    "    return a + b\n",
    "\n",
    "saudacao(\"Maria\")\n",
    "resultado = soma(10, 5)\n",
    "print(\"Resultado da soma:\", resultado)\n"
   ]
  },
  {
   "cell_type": "markdown",
   "id": "90037b3e",
   "metadata": {},
   "source": [
    "## 🧱 Classes e Objetos"
   ]
  },
  {
   "cell_type": "code",
   "execution_count": null,
   "id": "1d2c1696",
   "metadata": {},
   "outputs": [],
   "source": [
    "\n",
    "class Pessoa:\n",
    "    def __init__(self, nome, idade):\n",
    "        self.nome = nome\n",
    "        self.idade = idade\n",
    "\n",
    "    def apresentar(self):\n",
    "        print(f\"Olá, meu nome é {self.nome} e tenho {self.idade} anos.\")\n",
    "\n",
    "p1 = Pessoa(\"Lucas\", 30)\n",
    "p1.apresentar()\n"
   ]
  }
 ],
 "metadata": {},
 "nbformat": 4,
 "nbformat_minor": 5
}