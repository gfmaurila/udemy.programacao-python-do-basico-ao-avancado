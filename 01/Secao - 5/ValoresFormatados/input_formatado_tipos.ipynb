{
 "cells": [
  {
   "cell_type": "markdown",
   "id": "1b905a3b",
   "metadata": {},
   "source": [
    "# 📥 Exemplos de Input Formatado em Python"
   ]
  },
  {
   "cell_type": "markdown",
   "id": "0f37ba49",
   "metadata": {},
   "source": [
    "## 🔢 Entrada de número inteiro com validação"
   ]
  },
  {
   "cell_type": "code",
   "execution_count": null,
   "id": "42dd2645",
   "metadata": {},
   "outputs": [],
   "source": [
    "\n",
    "entrada = input(\"Digite um número inteiro: \").replace(\".\", \"\").replace(\",\", \"\")\n",
    "if entrada.isdigit():\n",
    "    numero = int(entrada)\n",
    "    print(\"Número inteiro válido:\", numero)\n",
    "else:\n",
    "    print(\"Erro: entrada inválida para inteiro.\")\n"
   ]
  },
  {
   "cell_type": "markdown",
   "id": "ccd6e13f",
   "metadata": {},
   "source": [
    "## 🔣 Entrada de número decimal (float) com ponto ou vírgula"
   ]
  },
  {
   "cell_type": "code",
   "execution_count": null,
   "id": "52ffad23",
   "metadata": {},
   "outputs": [],
   "source": [
    "\n",
    "entrada = input(\"Digite um valor decimal (ex: 1234,56 ou 1234.56): \").replace(\",\", \".\")\n",
    "try:\n",
    "    valor = float(entrada)\n",
    "    print(\"Valor float válido:\", valor)\n",
    "except ValueError:\n",
    "    print(\"Erro: entrada inválida para float.\")\n"
   ]
  },
  {
   "cell_type": "markdown",
   "id": "5a7683a5",
   "metadata": {},
   "source": [
    "## 📅 Entrada de data (dd/mm/aaaa)"
   ]
  },
  {
   "cell_type": "code",
   "execution_count": null,
   "id": "3d466c03",
   "metadata": {},
   "outputs": [],
   "source": [
    "\n",
    "entrada = input(\"Digite uma data (formato dd/mm/aaaa): \")\n",
    "try:\n",
    "    data = datetime.strptime(entrada, \"%d/%m/%Y\").date()\n",
    "    print(\"Data válida:\", data)\n",
    "except ValueError:\n",
    "    print(\"Erro: formato inválido. Use dd/mm/aaaa.\")\n"
   ]
  },
  {
   "cell_type": "markdown",
   "id": "6ed7e1df",
   "metadata": {},
   "source": [
    "## ⏰ Entrada de data e hora (dd/mm/aaaa HH:MM)"
   ]
  },
  {
   "cell_type": "code",
   "execution_count": null,
   "id": "3b58224f",
   "metadata": {},
   "outputs": [],
   "source": [
    "\n",
    "entrada = input(\"Digite data e hora (formato dd/mm/aaaa HH:MM): \")\n",
    "try:\n",
    "    dt = datetime.strptime(entrada, \"%d/%m/%Y %H:%M\")\n",
    "    print(\"Data e hora válidas:\", dt)\n",
    "except ValueError:\n",
    "    print(\"Erro: formato inválido. Use dd/mm/aaaa HH:MM.\")\n"
   ]
  }
 ],
 "metadata": {},
 "nbformat": 4,
 "nbformat_minor": 5
}