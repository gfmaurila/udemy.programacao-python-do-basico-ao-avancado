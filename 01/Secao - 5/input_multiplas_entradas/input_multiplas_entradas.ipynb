{
 "cells": [
  {
   "cell_type": "markdown",
   "id": "a6315d45",
   "metadata": {},
   "source": [
    "# 📥 Múltiplas Entradas na Mesma Linha com `input()`"
   ]
  },
  {
   "cell_type": "markdown",
   "id": "e3c3df9b",
   "metadata": {},
   "source": [
    "## 🧾 Lendo múltiplos valores numéricos separados por espaço"
   ]
  },
  {
   "cell_type": "code",
   "execution_count": null,
   "id": "f7318ecc",
   "metadata": {},
   "outputs": [],
   "source": [
    "\n",
    "entrada = input(\"Digite 3 números inteiros separados por espaço: \")\n",
    "try:\n",
    "    n1, n2, n3 = map(int, entrada.split())\n",
    "    print(f\"Números digitados: {n1}, {n2}, {n3}\")\n",
    "except ValueError:\n",
    "    print(\"Erro: digite exatamente 3 números.\")\n"
   ]
  },
  {
   "cell_type": "markdown",
   "id": "819e1c89",
   "metadata": {},
   "source": [
    "## 📝 Entrada de nome e idade separados por vírgula"
   ]
  },
  {
   "cell_type": "code",
   "execution_count": null,
   "id": "dbf15dd5",
   "metadata": {},
   "outputs": [],
   "source": [
    "\n",
    "entrada = input(\"Digite seu nome e idade separados por vírgula (ex: Ana,30): \")\n",
    "try:\n",
    "    nome, idade = entrada.split(\",\")\n",
    "    idade = int(idade.strip())\n",
    "    print(f\"Nome: {nome.strip()} | Idade: {idade}\")\n",
    "except ValueError:\n",
    "    print(\"Erro: entrada inválida. Use o formato: Nome,Idade\")\n"
   ]
  },
  {
   "cell_type": "markdown",
   "id": "dd1f174b",
   "metadata": {},
   "source": [
    "## 💬 Entrada de lista de palavras"
   ]
  },
  {
   "cell_type": "code",
   "execution_count": null,
   "id": "e8e367c4",
   "metadata": {},
   "outputs": [],
   "source": [
    "\n",
    "palavras = input(\"Digite palavras separadas por espaço: \").split()\n",
    "print(\"Palavras digitadas:\", palavras)\n"
   ]
  },
  {
   "cell_type": "markdown",
   "id": "58241920",
   "metadata": {},
   "source": [
    "## 🔢 Lista de números float com separação por vírgula"
   ]
  },
  {
   "cell_type": "code",
   "execution_count": null,
   "id": "e661f698",
   "metadata": {},
   "outputs": [],
   "source": [
    "\n",
    "entrada = input(\"Digite valores decimais separados por vírgula: \")\n",
    "try:\n",
    "    numeros = list(map(lambda x: float(x.replace(\",\", \".\").strip()), entrada.split(\",\")))\n",
    "    print(\"Números convertidos:\", numeros)\n",
    "except ValueError:\n",
    "    print(\"Erro: certifique-se de digitar apenas números válidos separados por vírgula.\")\n"
   ]
  }
 ],
 "metadata": {},
 "nbformat": 4,
 "nbformat_minor": 5
}