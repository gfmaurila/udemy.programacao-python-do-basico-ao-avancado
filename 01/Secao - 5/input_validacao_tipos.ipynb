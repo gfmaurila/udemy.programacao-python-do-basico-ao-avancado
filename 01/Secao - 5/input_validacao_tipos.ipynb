{
 "cells": [
  {
   "cell_type": "markdown",
   "id": "84ab72ca",
   "metadata": {},
   "source": [
    "# Validação e Tratamento de Erros em `input()` por Tipo de Dado"
   ]
  },
  {
   "cell_type": "markdown",
   "id": "5f2ee3ba",
   "metadata": {},
   "source": [
    "## 🔢 `int` com validação"
   ]
  },
  {
   "cell_type": "code",
   "execution_count": null,
   "id": "d52f788b",
   "metadata": {},
   "outputs": [],
   "source": [
    "\n",
    "entrada = input(\"Digite um número inteiro: \")\n",
    "if entrada.isdigit():\n",
    "    numero = int(entrada)\n",
    "    print(\"Número válido:\", numero)\n",
    "else:\n",
    "    print(\"Erro: entrada inválida para inteiro.\")\n"
   ]
  },
  {
   "cell_type": "markdown",
   "id": "bb5bae7a",
   "metadata": {},
   "source": [
    "## 🔣 `float` com try/except"
   ]
  },
  {
   "cell_type": "code",
   "execution_count": null,
   "id": "692eae02",
   "metadata": {},
   "outputs": [],
   "source": [
    "\n",
    "try:\n",
    "    numero = float(input(\"Digite um número decimal: \"))\n",
    "    print(\"Número decimal válido:\", numero)\n",
    "except ValueError:\n",
    "    print(\"Erro: valor inválido para float.\")\n"
   ]
  },
  {
   "cell_type": "markdown",
   "id": "a78e72bf",
   "metadata": {},
   "source": [
    "## ✅ `bool` com opções específicas"
   ]
  },
  {
   "cell_type": "code",
   "execution_count": null,
   "id": "e55a759f",
   "metadata": {},
   "outputs": [],
   "source": [
    "\n",
    "entrada = input(\"Você aceita os termos? (s/n): \").lower()\n",
    "if entrada in [\"s\", \"sim\", \"y\", \"yes\"]:\n",
    "    resposta = True\n",
    "elif entrada in [\"n\", \"nao\", \"não\", \"no\"]:\n",
    "    resposta = False\n",
    "else:\n",
    "    resposta = None\n",
    "\n",
    "print(\"Valor interpretado:\", resposta)\n"
   ]
  },
  {
   "cell_type": "markdown",
   "id": "8efd238a",
   "metadata": {},
   "source": [
    "## 📋 Lista de inteiros com `map()` e validação"
   ]
  },
  {
   "cell_type": "code",
   "execution_count": null,
   "id": "8ec96209",
   "metadata": {},
   "outputs": [],
   "source": [
    "\n",
    "entrada = input(\"Digite números separados por espaço: \").split()\n",
    "\n",
    "try:\n",
    "    numeros = list(map(int, entrada))\n",
    "    print(\"Lista convertida com sucesso:\", numeros)\n",
    "except ValueError:\n",
    "    print(\"Erro: todos os itens devem ser números inteiros.\")\n"
   ]
  }
 ],
 "metadata": {},
 "nbformat": 4,
 "nbformat_minor": 5
}