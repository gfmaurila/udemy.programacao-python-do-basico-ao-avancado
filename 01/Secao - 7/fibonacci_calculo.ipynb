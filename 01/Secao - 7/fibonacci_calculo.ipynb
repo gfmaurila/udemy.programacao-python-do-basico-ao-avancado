{
 "cells": [
  {
   "cell_type": "markdown",
   "id": "110ae1eb",
   "metadata": {},
   "source": [
    "# 🔢 Cálculo da Sequência de Fibonacci"
   ]
  },
  {
   "cell_type": "markdown",
   "id": "0e37f3aa",
   "metadata": {},
   "source": [
    "## ✅ Versão Iterativa (eficiente)"
   ]
  },
  {
   "cell_type": "code",
   "execution_count": null,
   "id": "26bad433",
   "metadata": {},
   "outputs": [],
   "source": [
    "\n",
    "n = int(input(\"Digite a quantidade de termos da sequência de Fibonacci: \"))\n",
    "a, b = 0, 1\n",
    "for _ in range(n):\n",
    "    print(a, end=\" \")\n",
    "    a, b = b, a + b\n"
   ]
  },
  {
   "cell_type": "markdown",
   "id": "fb89ebff",
   "metadata": {},
   "source": [
    "## 🔁 Versão Recursiva (menos eficiente, mas educativa)"
   ]
  },
  {
   "cell_type": "code",
   "execution_count": null,
   "id": "97014a06",
   "metadata": {},
   "outputs": [],
   "source": [
    "\n",
    "def fibonacci(n):\n",
    "    if n <= 1:\n",
    "        return n\n",
    "    return fibonacci(n-1) + fibonacci(n-2)\n",
    "\n",
    "termos = int(input(\"Quantos termos da sequência você quer ver? \"))\n",
    "for i in range(termos):\n",
    "    print(fibonacci(i), end=\" \")\n"
   ]
  }
 ],
 "metadata": {},
 "nbformat": 4,
 "nbformat_minor": 5
}