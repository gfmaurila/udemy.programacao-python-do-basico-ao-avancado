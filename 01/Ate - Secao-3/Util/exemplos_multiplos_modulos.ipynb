{
 "cells": [
  {
   "cell_type": "markdown",
   "id": "823df0ed",
   "metadata": {},
   "source": [
    "# Exemplos de Vários Módulos Python"
   ]
  },
  {
   "cell_type": "code",
   "execution_count": null,
   "id": "dc36ae1f",
   "metadata": {},
   "outputs": [],
   "source": [
    "\n",
    "import re\n",
    "print(\"--- re ---\")\n",
    "texto = \"O número é 1234 e o CEP é 56789-000\"\n",
    "numeros = re.findall(r\"\\d+\", texto)\n",
    "print(\"Números encontrados:\", numeros)\n"
   ]
  },
  {
   "cell_type": "code",
   "execution_count": null,
   "id": "f548fc6e",
   "metadata": {},
   "outputs": [],
   "source": [
    "\n",
    "import json\n",
    "print(\"--- json ---\")\n",
    "dicionario = {\"nome\": \"Alice\", \"idade\": 25}\n",
    "json_str = json.dumps(dicionario)\n",
    "print(\"JSON serializado:\", json_str)\n",
    "print(\"JSON desserializado:\", json.loads(json_str))\n"
   ]
  },
  {
   "cell_type": "code",
   "execution_count": null,
   "id": "5d942d47",
   "metadata": {},
   "outputs": [],
   "source": [
    "\n",
    "from pathlib import Path\n",
    "print(\"--- pathlib ---\")\n",
    "p = Path(\".\")\n",
    "print(\"Arquivos no diretório:\", list(p.glob(\"*.py\")))\n"
   ]
  },
  {
   "cell_type": "code",
   "execution_count": null,
   "id": "b480a9ed",
   "metadata": {},
   "outputs": [],
   "source": [
    "\n",
    "import asyncio\n",
    "print(\"--- asyncio ---\")\n",
    "async def saudacao():\n",
    "    await asyncio.sleep(1)\n",
    "    print(\"Olá, mundo async!\")\n",
    "asyncio.run(saudacao())\n"
   ]
  },
  {
   "cell_type": "code",
   "execution_count": null,
   "id": "269d7eb6",
   "metadata": {},
   "outputs": [],
   "source": [
    "\n",
    "import matplotlib.pyplot as plt\n",
    "print(\"--- matplotlib ---\")\n",
    "plt.plot([1, 2, 3], [4, 5, 6])\n",
    "plt.title(\"Exemplo de gráfico\")\n",
    "plt.xlabel(\"Eixo X\")\n",
    "plt.ylabel(\"Eixo Y\")\n",
    "plt.savefig(\"grafico_exemplo.png\")\n",
    "print(\"Gráfico salvo como grafico_exemplo.png\")\n"
   ]
  },
  {
   "cell_type": "code",
   "execution_count": null,
   "id": "9d434346",
   "metadata": {},
   "outputs": [],
   "source": [
    "\n",
    "# import requests  # requer internet\n",
    "# response = requests.get(\"https://httpbin.org/get\")\n",
    "# print(\"Status code:\", response.status_code)\n",
    "# print(\"JSON:\", response.json())\n"
   ]
  },
  {
   "cell_type": "code",
   "execution_count": null,
   "id": "23e9d578",
   "metadata": {},
   "outputs": [],
   "source": [
    "\n",
    "import numpy as np\n",
    "from sklearn.linear_model import LinearRegression\n",
    "print(\"--- scikit-learn ---\")\n",
    "X = np.array([[1], [2], [3], [4]])\n",
    "y = np.array([2, 4, 6, 8])\n",
    "modelo = LinearRegression()\n",
    "modelo.fit(X, y)\n",
    "print(\"Coeficiente:\", modelo.coef_)\n",
    "print(\"Intercepto:\", modelo.intercept_)\n",
    "print(\"Predição para 5:\", modelo.predict([[5]])[0])\n"
   ]
  }
 ],
 "metadata": {},
 "nbformat": 4,
 "nbformat_minor": 5
}