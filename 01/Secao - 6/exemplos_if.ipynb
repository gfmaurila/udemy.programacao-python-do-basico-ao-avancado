{
 "cells": [
  {
   "cell_type": "markdown",
   "id": "dc8a1b5f",
   "metadata": {},
   "source": [
    "# ✅ Exemplos de Estruturas Condicionais `if` em Python"
   ]
  },
  {
   "cell_type": "markdown",
   "id": "e72cbb7b",
   "metadata": {},
   "source": [
    "## 1. Condição simples com `if`"
   ]
  },
  {
   "cell_type": "code",
   "execution_count": null,
   "id": "052722cd",
   "metadata": {},
   "outputs": [],
   "source": [
    "\n",
    "idade = 20\n",
    "if idade >= 18:\n",
    "    print(\"Você é maior de idade.\")\n"
   ]
  },
  {
   "cell_type": "markdown",
   "id": "b1f5a392",
   "metadata": {},
   "source": [
    "## 2. `if` com `else`"
   ]
  },
  {
   "cell_type": "code",
   "execution_count": null,
   "id": "635c8595",
   "metadata": {},
   "outputs": [],
   "source": [
    "\n",
    "nota = 6\n",
    "if nota >= 7:\n",
    "    print(\"Aprovado!\")\n",
    "else:\n",
    "    print(\"Reprovado.\")\n"
   ]
  },
  {
   "cell_type": "markdown",
   "id": "61e93d44",
   "metadata": {},
   "source": [
    "## 3. `if`, `elif` e `else`"
   ]
  },
  {
   "cell_type": "code",
   "execution_count": null,
   "id": "4bf67275",
   "metadata": {},
   "outputs": [],
   "source": [
    "\n",
    "media = 8\n",
    "if media >= 9:\n",
    "    print(\"Excelente!\")\n",
    "elif media >= 7:\n",
    "    print(\"Bom!\")\n",
    "else:\n",
    "    print(\"Precisa melhorar.\")\n"
   ]
  },
  {
   "cell_type": "markdown",
   "id": "9212a075",
   "metadata": {},
   "source": [
    "## 4. Usando `if` com múltiplas condições (`and`, `or`)"
   ]
  },
  {
   "cell_type": "code",
   "execution_count": null,
   "id": "395783e2",
   "metadata": {},
   "outputs": [],
   "source": [
    "\n",
    "idade = 22\n",
    "tem_carteira = True\n",
    "\n",
    "if idade >= 18 and tem_carteira:\n",
    "    print(\"Pode dirigir.\")\n",
    "else:\n",
    "    print(\"Não pode dirigir.\")\n"
   ]
  },
  {
   "cell_type": "markdown",
   "id": "dcfe9352",
   "metadata": {},
   "source": [
    "## 5. Comparando valores digitados (`input()` + `if`)"
   ]
  },
  {
   "cell_type": "code",
   "execution_count": null,
   "id": "ee45716c",
   "metadata": {},
   "outputs": [],
   "source": [
    "\n",
    "nome = input(\"Digite seu nome: \")\n",
    "if nome.lower() == \"ana\":\n",
    "    print(\"Olá, Ana!\")\n",
    "else:\n",
    "    print(f\"Olá, {nome}!\")\n"
   ]
  }
 ],
 "metadata": {},
 "nbformat": 4,
 "nbformat_minor": 5
}