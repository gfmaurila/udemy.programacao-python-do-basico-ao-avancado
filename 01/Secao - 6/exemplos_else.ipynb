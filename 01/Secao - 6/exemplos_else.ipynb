{
 "cells": [
  {
   "cell_type": "markdown",
   "id": "935117fb",
   "metadata": {},
   "source": [
    "# 🔄 Exemplos do uso de `else` em Python"
   ]
  },
  {
   "cell_type": "markdown",
   "id": "53b19cbf",
   "metadata": {},
   "source": [
    "## 1. `if` com `else` simples"
   ]
  },
  {
   "cell_type": "code",
   "execution_count": null,
   "id": "fc6b9d3e",
   "metadata": {},
   "outputs": [],
   "source": [
    "\n",
    "numero = 7\n",
    "if numero % 2 == 0:\n",
    "    print(\"Número par\")\n",
    "else:\n",
    "    print(\"Número ímpar\")\n"
   ]
  },
  {
   "cell_type": "markdown",
   "id": "8f8364db",
   "metadata": {},
   "source": [
    "## 2. `if/elif/else` com múltiplas opções"
   ]
  },
  {
   "cell_type": "code",
   "execution_count": null,
   "id": "49cdf17a",
   "metadata": {},
   "outputs": [],
   "source": [
    "\n",
    "nota = 5\n",
    "if nota >= 9:\n",
    "    print(\"Excelente\")\n",
    "elif nota >= 7:\n",
    "    print(\"Bom\")\n",
    "else:\n",
    "    print(\"Insuficiente\")\n"
   ]
  },
  {
   "cell_type": "markdown",
   "id": "b7fe0ed3",
   "metadata": {},
   "source": [
    "## 3. `else` em um loop `for` (executa se não houver `break`)"
   ]
  },
  {
   "cell_type": "code",
   "execution_count": null,
   "id": "9ffabfee",
   "metadata": {},
   "outputs": [],
   "source": [
    "\n",
    "for i in range(5):\n",
    "    if i == 3:\n",
    "        print(\"Interrompido no 3\")\n",
    "        break\n",
    "else:\n",
    "    print(\"Loop terminou sem break\")\n"
   ]
  },
  {
   "cell_type": "markdown",
   "id": "92b4c913",
   "metadata": {},
   "source": [
    "## 4. `else` em `while`"
   ]
  },
  {
   "cell_type": "code",
   "execution_count": null,
   "id": "5e0c5666",
   "metadata": {},
   "outputs": [],
   "source": [
    "\n",
    "contador = 0\n",
    "while contador < 3:\n",
    "    print(\"Contando:\", contador)\n",
    "    contador += 1\n",
    "else:\n",
    "    print(\"Loop `while` finalizado normalmente\")\n"
   ]
  }
 ],
 "metadata": {},
 "nbformat": 4,
 "nbformat_minor": 5
}