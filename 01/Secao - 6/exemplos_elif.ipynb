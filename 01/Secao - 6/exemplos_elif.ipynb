{
 "cells": [
  {
   "cell_type": "markdown",
   "id": "d9fbc1b0",
   "metadata": {},
   "source": [
    "# 🧠 Exemplos de `if`, `elif`, `else` (equivalente ao 'else if')"
   ]
  },
  {
   "cell_type": "markdown",
   "id": "7a47785a",
   "metadata": {},
   "source": [
    "## 1. Avaliação de nota com múltiplas faixas"
   ]
  },
  {
   "cell_type": "code",
   "execution_count": null,
   "id": "4c2d00c8",
   "metadata": {},
   "outputs": [],
   "source": [
    "\n",
    "nota = 8\n",
    "\n",
    "if nota >= 9:\n",
    "    print(\"Excelente!\")\n",
    "elif nota >= 7:\n",
    "    print(\"Bom!\")\n",
    "elif nota >= 5:\n",
    "    print(\"Regular.\")\n",
    "else:\n",
    "    print(\"Reprovado.\")\n"
   ]
  },
  {
   "cell_type": "markdown",
   "id": "8973452c",
   "metadata": {},
   "source": [
    "## 2. Classificação por idade"
   ]
  },
  {
   "cell_type": "code",
   "execution_count": null,
   "id": "67ecfac8",
   "metadata": {},
   "outputs": [],
   "source": [
    "\n",
    "idade = 16\n",
    "\n",
    "if idade < 13:\n",
    "    print(\"Criança\")\n",
    "elif idade < 18:\n",
    "    print(\"Adolescente\")\n",
    "elif idade < 60:\n",
    "    print(\"Adulto\")\n",
    "else:\n",
    "    print(\"Idoso\")\n"
   ]
  },
  {
   "cell_type": "markdown",
   "id": "ed1ec0eb",
   "metadata": {},
   "source": [
    "## 3. Menu com múltiplas opções"
   ]
  },
  {
   "cell_type": "code",
   "execution_count": null,
   "id": "564995c5",
   "metadata": {},
   "outputs": [],
   "source": [
    "\n",
    "opcao = input(\"Escolha uma opção (1, 2 ou 3): \")\n",
    "\n",
    "if opcao == \"1\":\n",
    "    print(\"Você escolheu Opção 1\")\n",
    "elif opcao == \"2\":\n",
    "    print(\"Você escolheu Opção 2\")\n",
    "elif opcao == \"3\":\n",
    "    print(\"Você escolheu Opção 3\")\n",
    "else:\n",
    "    print(\"Opção inválida\")\n"
   ]
  }
 ],
 "metadata": {},
 "nbformat": 4,
 "nbformat_minor": 5
}