{
 "cells": [
  {
   "cell_type": "markdown",
   "id": "edca2407",
   "metadata": {},
   "source": [
    "# Web Scraping com requests, APIs e Visualização de Dados"
   ]
  },
  {
   "cell_type": "markdown",
   "id": "d73a90a3",
   "metadata": {},
   "source": [
    "## 🌍 Web Scraping com `requests` (requer internet, comentado para ambiente offline)"
   ]
  },
  {
   "cell_type": "code",
   "execution_count": null,
   "id": "df33386e",
   "metadata": {},
   "outputs": [],
   "source": [
    "\n",
    "# import requests\n",
    "# from bs4 import BeautifulSoup\n",
    "\n",
    "# url = \"https://example.com\"\n",
    "# response = requests.get(url)\n",
    "# soup = BeautifulSoup(response.text, \"html.parser\")\n",
    "# print(soup.title.string)\n"
   ]
  },
  {
   "cell_type": "markdown",
   "id": "71a773a3",
   "metadata": {},
   "source": [
    "## 🔗 Acesso a API com `requests` (simulado)"
   ]
  },
  {
   "cell_type": "code",
   "execution_count": null,
   "id": "2b424f05",
   "metadata": {},
   "outputs": [],
   "source": [
    "\n",
    "# Simulação de JSON vindo de uma API\n",
    "import json\n",
    "\n",
    "resposta_api = '''\n",
    "[\n",
    "  {\"nome\": \"Produto A\", \"preco\": 10.5},\n",
    "  {\"nome\": \"Produto B\", \"preco\": 20.0},\n",
    "  {\"nome\": \"Produto C\", \"preco\": 15.75}\n",
    "]\n",
    "'''\n",
    "\n",
    "dados = json.loads(resposta_api)\n",
    "print(\"Dados da API simulada:\")\n",
    "for item in dados:\n",
    "    print(item)\n"
   ]
  },
  {
   "cell_type": "markdown",
   "id": "6effde88",
   "metadata": {},
   "source": [
    "## 📊 Visualização com matplotlib"
   ]
  },
  {
   "cell_type": "code",
   "execution_count": null,
   "id": "eb275bc0",
   "metadata": {},
   "outputs": [],
   "source": [
    "\n",
    "import matplotlib.pyplot as plt\n",
    "\n",
    "nomes = [item[\"nome\"] for item in dados]\n",
    "precos = [item[\"preco\"] for item in dados]\n",
    "\n",
    "plt.bar(nomes, precos)\n",
    "plt.title(\"Preços dos Produtos\")\n",
    "plt.xlabel(\"Produto\")\n",
    "plt.ylabel(\"Preço (R$)\")\n",
    "plt.savefig(\"grafico_precos.png\")\n",
    "print(\"Gráfico salvo como grafico_precos.png\")\n"
   ]
  },
  {
   "cell_type": "markdown",
   "id": "f16ed13e",
   "metadata": {},
   "source": [
    "## 🎨 Visualização com seaborn (se disponível)"
   ]
  },
  {
   "cell_type": "code",
   "execution_count": null,
   "id": "6505d80b",
   "metadata": {},
   "outputs": [],
   "source": [
    "\n",
    "import seaborn as sns\n",
    "import pandas as pd\n",
    "\n",
    "df = pd.DataFrame(dados)\n",
    "sns.barplot(x=\"nome\", y=\"preco\", data=df).set(title=\"Preços com Seaborn\")\n",
    "plt.savefig(\"grafico_seaborn.png\")\n",
    "print(\"Gráfico seaborn salvo como grafico_seaborn.png\")\n"
   ]
  }
 ],
 "metadata": {},
 "nbformat": 4,
 "nbformat_minor": 5
}