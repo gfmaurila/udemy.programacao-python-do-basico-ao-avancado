{
 "cells": [
  {
   "cell_type": "markdown",
   "id": "d3293246",
   "metadata": {},
   "source": [
    "# Manipulação Avançada de Listas de Strings em Python"
   ]
  },
  {
   "cell_type": "markdown",
   "id": "58323d3f",
   "metadata": {},
   "source": [
    "## 🔁 Listas aninhadas"
   ]
  },
  {
   "cell_type": "code",
   "execution_count": null,
   "id": "221a0550",
   "metadata": {},
   "outputs": [],
   "source": [
    "\n",
    "# Lista de listas de nomes\n",
    "grupos = [[\"Ana\", \"Bruno\"], [\"Carlos\", \"Diana\"], [\"Eduardo\", \"Fernanda\"]]\n",
    "print(\"Todos os nomes (aninhado):\", grupos)\n",
    "\n",
    "# Acessar um nome específico\n",
    "print(\"Primeiro nome do segundo grupo:\", grupos[1][0])\n"
   ]
  },
  {
   "cell_type": "markdown",
   "id": "63725f93",
   "metadata": {},
   "source": [
    "## 🧹 Limpeza e padronização de strings"
   ]
  },
  {
   "cell_type": "code",
   "execution_count": null,
   "id": "b24dfb46",
   "metadata": {},
   "outputs": [],
   "source": [
    "\n",
    "nomes_sujos = [\"  ana \", \"BrUNO \", \"  CARLOS\"]\n",
    "nomes_limpos = [nome.strip().capitalize() for nome in nomes_sujos]\n",
    "print(\"Nomes limpos:\", nomes_limpos)\n"
   ]
  },
  {
   "cell_type": "markdown",
   "id": "4bad9caf",
   "metadata": {},
   "source": [
    "## 🔎 Filtrando com `filter` e `lambda`"
   ]
  },
  {
   "cell_type": "code",
   "execution_count": null,
   "id": "c3b390c1",
   "metadata": {},
   "outputs": [],
   "source": [
    "\n",
    "nomes = [\"Ana\", \"Bruno\", \"Carlos\", \"Diana\", \"Eva\"]\n",
    "curtos = list(filter(lambda nome: len(nome) <= 4, nomes))\n",
    "print(\"Nomes com 4 letras ou menos:\", curtos)\n"
   ]
  },
  {
   "cell_type": "markdown",
   "id": "c9ad8210",
   "metadata": {},
   "source": [
    "## 🧠 Transformando com `map`"
   ]
  },
  {
   "cell_type": "code",
   "execution_count": null,
   "id": "5b166e96",
   "metadata": {},
   "outputs": [],
   "source": [
    "\n",
    "nomes_minusculos = list(map(str.lower, nomes))\n",
    "print(\"Todos minúsculos:\", nomes_minusculos)\n"
   ]
  },
  {
   "cell_type": "markdown",
   "id": "7bc59cc0",
   "metadata": {},
   "source": [
    "## 📂 Simulando nomes de arquivos"
   ]
  },
  {
   "cell_type": "code",
   "execution_count": null,
   "id": "62fcc95f",
   "metadata": {},
   "outputs": [],
   "source": [
    "\n",
    "arquivos = [\"relatorio_final.DOCX\", \"tabela.csv\", \"foto.PNG\", \"apresentacao.pptx\"]\n",
    "extensoes = [arq.split(\".\")[-1].lower() for arq in arquivos]\n",
    "print(\"Extensões dos arquivos:\", extensoes)\n"
   ]
  },
  {
   "cell_type": "markdown",
   "id": "54c97205",
   "metadata": {},
   "source": [
    "## 🎯 Ordenações personalizadas"
   ]
  },
  {
   "cell_type": "code",
   "execution_count": null,
   "id": "c8bb7ccf",
   "metadata": {},
   "outputs": [],
   "source": [
    "\n",
    "nomes = [\"Ana\", \"Bruno\", \"Carlos\", \"Diana\", \"Eva\"]\n",
    "\n",
    "# Por tamanho\n",
    "ordenado_tamanho = sorted(nomes, key=len)\n",
    "print(\"Ordenado por tamanho:\", ordenado_tamanho)\n",
    "\n",
    "# Pela última letra\n",
    "ordenado_ultima = sorted(nomes, key=lambda nome: nome[-1])\n",
    "print(\"Ordenado pela última letra:\", ordenado_ultima)\n"
   ]
  }
 ],
 "metadata": {},
 "nbformat": 4,
 "nbformat_minor": 5
}