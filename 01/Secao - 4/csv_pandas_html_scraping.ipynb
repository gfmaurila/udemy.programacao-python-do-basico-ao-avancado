{
 "cells": [
  {
   "cell_type": "markdown",
   "id": "27261030",
   "metadata": {},
   "source": [
    "# CSV, Pandas, HTML Parsing e Web Scraping (offline)"
   ]
  },
  {
   "cell_type": "markdown",
   "id": "607b75c3",
   "metadata": {},
   "source": [
    "## 📄 Manipulação de Arquivo CSV (modo manual)"
   ]
  },
  {
   "cell_type": "code",
   "execution_count": null,
   "id": "7b944417",
   "metadata": {},
   "outputs": [],
   "source": [
    "\n",
    "# Criando CSV manualmente\n",
    "with open(\"dados.csv\", \"w\", encoding=\"utf-8\") as f:\n",
    "    f.write(\"nome,idade\\n\")\n",
    "    f.write(\"Ana,28\\n\")\n",
    "    f.write(\"Bruno,34\\n\")\n",
    "\n",
    "# Lendo CSV linha a linha\n",
    "with open(\"dados.csv\", \"r\", encoding=\"utf-8\") as f:\n",
    "    for linha in f:\n",
    "        print(linha.strip())\n"
   ]
  },
  {
   "cell_type": "markdown",
   "id": "6e7ec124",
   "metadata": {},
   "source": [
    "## 🐼 Lendo CSV com pandas"
   ]
  },
  {
   "cell_type": "code",
   "execution_count": null,
   "id": "a94c570d",
   "metadata": {},
   "outputs": [],
   "source": [
    "\n",
    "import pandas as pd\n",
    "\n",
    "df = pd.read_csv(\"dados.csv\")\n",
    "print(\"DataFrame carregado com pandas:\")\n",
    "print(df)\n",
    "print(\"Média de idade:\", df[\"idade\"].mean())\n"
   ]
  },
  {
   "cell_type": "markdown",
   "id": "669eab71",
   "metadata": {},
   "source": [
    "## 🌐 Parse de HTML com BeautifulSoup"
   ]
  },
  {
   "cell_type": "code",
   "execution_count": null,
   "id": "8b021113",
   "metadata": {},
   "outputs": [],
   "source": [
    "\n",
    "from bs4 import BeautifulSoup\n",
    "\n",
    "html = '''\n",
    "<html>\n",
    "<head><title>Exemplo</title></head>\n",
    "<body>\n",
    "  <h1>Bem-vindo</h1>\n",
    "  <p class=\"info\">Email: exemplo@email.com</p>\n",
    "  <p class=\"info\">Telefone: (11) 91234-5678</p>\n",
    "</body>\n",
    "</html>\n",
    "'''\n",
    "\n",
    "soup = BeautifulSoup(html, \"html.parser\")\n",
    "titulo = soup.title.string\n",
    "info = soup.find_all(\"p\", class_=\"info\")\n",
    "\n",
    "print(\"Título da página:\", titulo)\n",
    "for p in info:\n",
    "    print(p.text)\n"
   ]
  },
  {
   "cell_type": "markdown",
   "id": "ffaed774",
   "metadata": {},
   "source": [
    "## 🚀 Web Scraping Simulado (offline)"
   ]
  },
  {
   "cell_type": "code",
   "execution_count": null,
   "id": "7a00de8a",
   "metadata": {},
   "outputs": [],
   "source": [
    "\n",
    "# Simulando scraping com HTML estático\n",
    "html_produtos = '''\n",
    "<ul>\n",
    "  <li class=\"produto\">Produto A - R$10</li>\n",
    "  <li class=\"produto\">Produto B - R$20</li>\n",
    "</ul>\n",
    "'''\n",
    "\n",
    "soup = BeautifulSoup(html_produtos, \"html.parser\")\n",
    "produtos = [li.text for li in soup.find_all(\"li\", class_=\"produto\")]\n",
    "print(\"Produtos encontrados:\")\n",
    "print(produtos)\n"
   ]
  }
 ],
 "metadata": {},
 "nbformat": 4,
 "nbformat_minor": 5
}