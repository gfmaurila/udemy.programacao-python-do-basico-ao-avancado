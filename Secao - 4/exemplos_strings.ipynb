{
 "cells": [
  {
   "cell_type": "markdown",
   "id": "3c95012d",
   "metadata": {},
   "source": [
    "# Exemplos de Manipulação de Strings em Python"
   ]
  },
  {
   "cell_type": "code",
   "execution_count": null,
   "id": "3866960d",
   "metadata": {},
   "outputs": [],
   "source": [
    "\n",
    "texto = \"Python é incrível!\"\n",
    "\n",
    "print(\"Texto original:\", texto)\n",
    "print(\"Tamanho:\", len(texto))\n",
    "print(\"Minúsculas:\", texto.lower())\n",
    "print(\"Maiúsculas:\", texto.upper())\n",
    "print(\"Primeira maiúscula:\", texto.capitalize())\n",
    "print(\"Título:\", texto.title())\n",
    "print(\"Inverso:\", texto[::-1])\n"
   ]
  },
  {
   "cell_type": "code",
   "execution_count": null,
   "id": "96e213a0",
   "metadata": {},
   "outputs": [],
   "source": [
    "\n",
    "print(\"Começa com 'Python'?\", texto.startswith(\"Python\"))\n",
    "print(\"Termina com '!'?\", texto.endswith(\"!\"))\n",
    "print(\"Posição de 'é':\", texto.find(\"é\"))\n",
    "print(\"Substituir 'incrível' por 'poderoso':\", texto.replace(\"incrível\", \"poderoso\"))\n"
   ]
  },
  {
   "cell_type": "code",
   "execution_count": null,
   "id": "a968c80f",
   "metadata": {},
   "outputs": [],
   "source": [
    "\n",
    "print(\"Primeiros 6 caracteres:\", texto[:6])\n",
    "print(\"Últimos 3 caracteres:\", texto[-3:])\n"
   ]
  },
  {
   "cell_type": "code",
   "execution_count": null,
   "id": "991eb064",
   "metadata": {},
   "outputs": [],
   "source": [
    "\n",
    "palavras = texto.split()\n",
    "print(\"Split:\", palavras)\n",
    "print(\"Join com hífen:\", \"-\".join(palavras))\n"
   ]
  },
  {
   "cell_type": "code",
   "execution_count": null,
   "id": "ccd5b0fd",
   "metadata": {},
   "outputs": [],
   "source": [
    "\n",
    "print(\"É alfanumérico?\", \"abc123\".isalnum())\n",
    "print(\"É numérico?\", \"123\".isdigit())\n",
    "print(\"É letra?\", \"Python\".isalpha())\n",
    "print(\"Contém apenas espaços?\", \"   \".isspace())\n"
   ]
  },
  {
   "cell_type": "code",
   "execution_count": null,
   "id": "02818237",
   "metadata": {},
   "outputs": [],
   "source": [
    "\n",
    "nome = \"Ana\"\n",
    "idade = 28\n",
    "print(f\"{nome} tem {idade} anos.\")  # f-string\n",
    "print(\"{0} tem {1} anos.\".format(nome, idade))  # format\n"
   ]
  }
 ],
 "metadata": {},
 "nbformat": 4,
 "nbformat_minor": 5
}