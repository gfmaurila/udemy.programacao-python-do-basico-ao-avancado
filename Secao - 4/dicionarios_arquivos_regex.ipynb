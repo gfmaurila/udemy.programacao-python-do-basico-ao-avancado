{
 "cells": [
  {
   "cell_type": "markdown",
   "id": "ea4c8efe",
   "metadata": {},
   "source": [
    "# Dicionários, Arquivos de Texto e Expressões Regulares em Python"
   ]
  },
  {
   "cell_type": "markdown",
   "id": "3cf2fcc4",
   "metadata": {},
   "source": [
    "## 📘 Manipulação de Dicionários"
   ]
  },
  {
   "cell_type": "code",
   "execution_count": null,
   "id": "6b3a9d11",
   "metadata": {},
   "outputs": [],
   "source": [
    "\n",
    "pessoa = {\"nome\": \"Ana\", \"idade\": 28, \"cidade\": \"São Paulo\"}\n",
    "\n",
    "# Acessar valores\n",
    "print(\"Nome:\", pessoa[\"nome\"])\n",
    "\n",
    "# Adicionar/modificar\n",
    "pessoa[\"profissao\"] = \"Engenheira\"\n",
    "print(\"Com profissão:\", pessoa)\n",
    "\n",
    "# Iterar\n",
    "for chave, valor in pessoa.items():\n",
    "    print(f\"{chave}: {valor}\")\n",
    "\n",
    "# Verificar existência\n",
    "print(\"'idade' está no dicionário?\", \"idade\" in pessoa)\n"
   ]
  },
  {
   "cell_type": "markdown",
   "id": "9347d030",
   "metadata": {},
   "source": [
    "## 📂 Leitura e Escrita em Arquivos de Texto"
   ]
  },
  {
   "cell_type": "code",
   "execution_count": null,
   "id": "60b52353",
   "metadata": {},
   "outputs": [],
   "source": [
    "\n",
    "# Criar e escrever em um arquivo\n",
    "with open(\"exemplo.txt\", \"w\", encoding=\"utf-8\") as f:\n",
    "    f.write(\"Primeira linha\\nSegunda linha\\nTerceira linha\")\n",
    "\n",
    "# Ler o arquivo\n",
    "with open(\"exemplo.txt\", \"r\", encoding=\"utf-8\") as f:\n",
    "    linhas = f.readlines()\n",
    "print(\"Conteúdo do arquivo:\")\n",
    "for linha in linhas:\n",
    "    print(linha.strip())\n"
   ]
  },
  {
   "cell_type": "markdown",
   "id": "8cf46252",
   "metadata": {},
   "source": [
    "## 🔍 Expressões Regulares (`re`)"
   ]
  },
  {
   "cell_type": "code",
   "execution_count": null,
   "id": "d733d4c3",
   "metadata": {},
   "outputs": [],
   "source": [
    "\n",
    "import re\n",
    "\n",
    "texto = \"Contato: ana123@gmail.com, suporte@empresa.com, (11) 91234-5678\"\n",
    "\n",
    "# Encontrar e-mails\n",
    "emails = re.findall(r\"[\\w\\.-]+@[\\w\\.-]+\", texto)\n",
    "print(\"E-mails encontrados:\", emails)\n",
    "\n",
    "# Encontrar números de telefone (formato brasileiro)\n",
    "telefones = re.findall(r\"\\(\\d{2}\\)\\s\\d{4,5}-\\d{4}\", texto)\n",
    "print(\"Telefones encontrados:\", telefones)\n"
   ]
  }
 ],
 "metadata": {},
 "nbformat": 4,
 "nbformat_minor": 5
}