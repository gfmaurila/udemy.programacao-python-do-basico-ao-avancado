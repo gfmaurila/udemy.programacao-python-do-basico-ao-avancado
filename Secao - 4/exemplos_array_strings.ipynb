{
 "cells": [
  {
   "cell_type": "markdown",
   "id": "9cc62e47",
   "metadata": {},
   "source": [
    "# Exemplos com Arrays (Listas) de Strings em Python"
   ]
  },
  {
   "cell_type": "code",
   "execution_count": null,
   "id": "dadc969d",
   "metadata": {},
   "outputs": [],
   "source": [
    "\n",
    "nomes = [\"Ana\", \"Bruno\", \"Carlos\", \"Diana\", \"Eduardo\"]\n",
    "print(\"Lista original:\", nomes)\n"
   ]
  },
  {
   "cell_type": "code",
   "execution_count": null,
   "id": "004dda9d",
   "metadata": {},
   "outputs": [],
   "source": [
    "\n",
    "# Acessos e fatiamento\n",
    "print(\"Primeiro nome:\", nomes[0])\n",
    "print(\"Últimos dois nomes:\", nomes[-2:])\n"
   ]
  },
  {
   "cell_type": "code",
   "execution_count": null,
   "id": "25193dc5",
   "metadata": {},
   "outputs": [],
   "source": [
    "\n",
    "# Adicionar elementos\n",
    "nomes.append(\"Fernanda\")\n",
    "print(\"Após append:\", nomes)\n"
   ]
  },
  {
   "cell_type": "code",
   "execution_count": null,
   "id": "29227f31",
   "metadata": {},
   "outputs": [],
   "source": [
    "\n",
    "# Inserir em posição específica\n",
    "nomes.insert(2, \"Gabriel\")\n",
    "print(\"Após insert:\", nomes)\n"
   ]
  },
  {
   "cell_type": "code",
   "execution_count": null,
   "id": "22c6ebd5",
   "metadata": {},
   "outputs": [],
   "source": [
    "\n",
    "# Remover por valor\n",
    "nomes.remove(\"Carlos\")\n",
    "print(\"Após remover 'Carlos':\", nomes)\n"
   ]
  },
  {
   "cell_type": "code",
   "execution_count": null,
   "id": "e6e11512",
   "metadata": {},
   "outputs": [],
   "source": [
    "\n",
    "# Remover último elemento\n",
    "ultimo = nomes.pop()\n",
    "print(\"Após pop():\", nomes)\n",
    "print(\"Elemento removido:\", ultimo)\n"
   ]
  },
  {
   "cell_type": "code",
   "execution_count": null,
   "id": "25ad969c",
   "metadata": {},
   "outputs": [],
   "source": [
    "\n",
    "# Ordenação\n",
    "nomes.sort()\n",
    "print(\"Ordenado:\", nomes)\n",
    "\n",
    "# Ordenação reversa\n",
    "nomes.sort(reverse=True)\n",
    "print(\"Ordem reversa:\", nomes)\n"
   ]
  },
  {
   "cell_type": "code",
   "execution_count": null,
   "id": "fc35ba40",
   "metadata": {},
   "outputs": [],
   "source": [
    "\n",
    "# Tamanho da lista\n",
    "print(\"Quantidade de nomes:\", len(nomes))\n"
   ]
  },
  {
   "cell_type": "code",
   "execution_count": null,
   "id": "7491e054",
   "metadata": {},
   "outputs": [],
   "source": [
    "\n",
    "# Verificar existência\n",
    "print(\"'Ana' está na lista?\", \"Ana\" in nomes)\n"
   ]
  },
  {
   "cell_type": "code",
   "execution_count": null,
   "id": "523e1415",
   "metadata": {},
   "outputs": [],
   "source": [
    "\n",
    "# Iterar e transformar\n",
    "maiusculos = [nome.upper() for nome in nomes]\n",
    "print(\"Todos maiúsculos:\", maiusculos)\n"
   ]
  },
  {
   "cell_type": "code",
   "execution_count": null,
   "id": "87178c4d",
   "metadata": {},
   "outputs": [],
   "source": [
    "\n",
    "# Filtrar nomes com mais de 5 letras\n",
    "longos = [nome for nome in nomes if len(nome) > 5]\n",
    "print(\"Nomes com mais de 5 letras:\", longos)\n"
   ]
  }
 ],
 "metadata": {},
 "nbformat": 4,
 "nbformat_minor": 5
}