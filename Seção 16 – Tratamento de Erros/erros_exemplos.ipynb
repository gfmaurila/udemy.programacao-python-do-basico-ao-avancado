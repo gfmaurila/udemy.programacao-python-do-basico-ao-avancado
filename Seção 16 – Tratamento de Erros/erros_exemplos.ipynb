{
 "cells": [
  {
   "cell_type": "markdown",
   "id": "9a4b8e58",
   "metadata": {},
   "source": [
    "# 🧯 Tratamento de Erros em Python - Seção 16"
   ]
  },
  {
   "cell_type": "markdown",
   "id": "b478d97d",
   "metadata": {},
   "source": [
    "Este notebook apresenta exemplos sobre try, except, else e finally com listas, entradas e exceções comuns."
   ]
  },
  {
   "cell_type": "markdown",
   "id": "60c2ab8e",
   "metadata": {},
   "source": [
    "## 110 O Que Sao Erros"
   ]
  },
  {
   "cell_type": "code",
   "execution_count": null,
   "id": "915384bb",
   "metadata": {},
   "outputs": [],
   "source": [
    "# Tipos comuns de erros\n",
    "print(\"Antes do erro\")\n",
    "# print(10 / 0)  # ZeroDivisionError\n",
    "# print(x)       # NameError\n",
    "print(\"Depois do erro (se descomentar, não chega aqui)\")"
   ]
  },
  {
   "cell_type": "markdown",
   "id": "18c0fbfa",
   "metadata": {},
   "source": [
    "## 111 Try Except Lista"
   ]
  },
  {
   "cell_type": "code",
   "execution_count": null,
   "id": "9bd11a6c",
   "metadata": {},
   "outputs": [],
   "source": [
    "# Try e Except com listas\n",
    "lista = [1, 2, 3]\n",
    "\n",
    "try:\n",
    "    print(lista[5])\n",
    "except IndexError:\n",
    "    print(\"Erro: índice fora da lista\")"
   ]
  },
  {
   "cell_type": "markdown",
   "id": "ffa8752e",
   "metadata": {},
   "source": [
    "## 112 Try Except Input"
   ]
  },
  {
   "cell_type": "code",
   "execution_count": null,
   "id": "60505da3",
   "metadata": {},
   "outputs": [],
   "source": [
    "# Try e Except com input\n",
    "try:\n",
    "    numero = int(input(\"Digite um número inteiro: \"))\n",
    "    print(\"Número dobrado:\", numero * 2)\n",
    "except ValueError:\n",
    "    print(\"Erro: você digitou algo que não é número inteiro.\")"
   ]
  },
  {
   "cell_type": "markdown",
   "id": "a3da2831",
   "metadata": {},
   "source": [
    "## 113 Else Finally"
   ]
  },
  {
   "cell_type": "code",
   "execution_count": null,
   "id": "e8edd55e",
   "metadata": {},
   "outputs": [],
   "source": [
    "# Else e Finally com try\n",
    "try:\n",
    "    print(\"Executando try\")\n",
    "    resultado = 10 / 2\n",
    "except ZeroDivisionError:\n",
    "    print(\"Erro de divisão\")\n",
    "else:\n",
    "    print(\"Sem erros, resultado:\", resultado)\n",
    "finally:\n",
    "    print(\"Isso sempre será executado (try concluído)\")"
   ]
  }
 ],
 "metadata": {},
 "nbformat": 4,
 "nbformat_minor": 5
}