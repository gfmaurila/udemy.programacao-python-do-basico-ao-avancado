{
 "cells": [
  {
   "cell_type": "markdown",
   "id": "4665ee65",
   "metadata": {},
   "source": [
    "# 🧠 Estrutura de Dados em Python - Seção 15\n",
    "Exemplos práticos de listas, dicionários, sets, tuplas, lambda, map, filter e comprehensions."
   ]
  },
  {
   "cell_type": "markdown",
   "id": "a3814c3d",
   "metadata": {},
   "source": [
    "## 084 Intro Listas"
   ]
  },
  {
   "cell_type": "code",
   "execution_count": null,
   "id": "24fee2e0",
   "metadata": {},
   "outputs": [],
   "source": [
    "lista = [1, 2, 3, 4]\n",
    "print(lista)"
   ]
  },
  {
   "cell_type": "markdown",
   "id": "fd37065a",
   "metadata": {},
   "source": [
    "## 085 Manipulando Listas"
   ]
  },
  {
   "cell_type": "code",
   "execution_count": null,
   "id": "60e0b802",
   "metadata": {},
   "outputs": [],
   "source": [
    "lista = [1, 2, 3]\n",
    "lista.append(4)\n",
    "lista.remove(2)\n",
    "print(lista)"
   ]
  },
  {
   "cell_type": "markdown",
   "id": "0a0b3008",
   "metadata": {},
   "source": [
    "## 086 Funcoes Em Listas"
   ]
  },
  {
   "cell_type": "code",
   "execution_count": null,
   "id": "1a06a275",
   "metadata": {},
   "outputs": [],
   "source": [
    "lista = [10, 20, 30]\n",
    "print(\"Soma:\", sum(lista))\n",
    "print(\"Máximo:\", max(lista))"
   ]
  },
  {
   "cell_type": "markdown",
   "id": "1819a364",
   "metadata": {},
   "source": [
    "## 087 Concatenando Listas"
   ]
  },
  {
   "cell_type": "code",
   "execution_count": null,
   "id": "3a84452b",
   "metadata": {},
   "outputs": [],
   "source": [
    "a = [1, 2]\n",
    "b = [3, 4]\n",
    "print(a + b)"
   ]
  },
  {
   "cell_type": "markdown",
   "id": "bbdba77f",
   "metadata": {},
   "source": [
    "## 088 Extraindo Variaveis"
   ]
  },
  {
   "cell_type": "code",
   "execution_count": null,
   "id": "9b6c0bd4",
   "metadata": {},
   "outputs": [],
   "source": [
    "dados = [\"Maria\", 25]\n",
    "nome, idade = dados\n",
    "print(nome, idade)"
   ]
  },
  {
   "cell_type": "markdown",
   "id": "b8484b46",
   "metadata": {},
   "source": [
    "## 089 Loop Lista"
   ]
  },
  {
   "cell_type": "code",
   "execution_count": null,
   "id": "203fac34",
   "metadata": {},
   "outputs": [],
   "source": [
    "nomes = [\"Ana\", \"Leo\", \"Bi\"]\n",
    "for nome in nomes:\n",
    "    print(nome)"
   ]
  },
  {
   "cell_type": "markdown",
   "id": "d5b7292f",
   "metadata": {},
   "source": [
    "## 090 Verificando Itens"
   ]
  },
  {
   "cell_type": "code",
   "execution_count": null,
   "id": "c3ca68ad",
   "metadata": {},
   "outputs": [],
   "source": [
    "lista = [1, 2, 3]\n",
    "print(2 in lista)\n",
    "print(5 not in lista)"
   ]
  },
  {
   "cell_type": "markdown",
   "id": "111f58cc",
   "metadata": {},
   "source": [
    "## 091 Zip Listas"
   ]
  },
  {
   "cell_type": "code",
   "execution_count": null,
   "id": "3936ca24",
   "metadata": {},
   "outputs": [],
   "source": [
    "nomes = [\"Ana\", \"Bob\"]\n",
    "idades = [22, 30]\n",
    "for nome, idade in zip(nomes, idades):\n",
    "    print(nome, idade)"
   ]
  },
  {
   "cell_type": "markdown",
   "id": "8e08625f",
   "metadata": {},
   "source": [
    "## 092 Input Em Lista"
   ]
  },
  {
   "cell_type": "code",
   "execution_count": null,
   "id": "61786487",
   "metadata": {},
   "outputs": [],
   "source": [
    "valores = input(\"Digite números separados por espaço: \").split()\n",
    "print(valores)"
   ]
  },
  {
   "cell_type": "markdown",
   "id": "5e74526b",
   "metadata": {},
   "source": [
    "## 093 Tuplas"
   ]
  },
  {
   "cell_type": "code",
   "execution_count": null,
   "id": "85919728",
   "metadata": {},
   "outputs": [],
   "source": [
    "tupla = (\"a\", \"b\", \"c\")\n",
    "print(tupla[1])\n",
    "# tupla[0] = \"x\"  # inválido"
   ]
  },
  {
   "cell_type": "markdown",
   "id": "5ef76439",
   "metadata": {},
   "source": [
    "## 094 Arrays"
   ]
  },
  {
   "cell_type": "code",
   "execution_count": null,
   "id": "907109d9",
   "metadata": {},
   "outputs": [],
   "source": [
    "from array import array\n",
    "a = array('i', [1, 2, 3])\n",
    "print(a[0])"
   ]
  },
  {
   "cell_type": "markdown",
   "id": "bae28eef",
   "metadata": {},
   "source": [
    "## 095 Sets"
   ]
  },
  {
   "cell_type": "code",
   "execution_count": null,
   "id": "063ab580",
   "metadata": {},
   "outputs": [],
   "source": [
    "s = {1, 2, 3, 3}\n",
    "print(s)"
   ]
  },
  {
   "cell_type": "markdown",
   "id": "a639022a",
   "metadata": {},
   "source": [
    "## 096 Funcoes Sets"
   ]
  },
  {
   "cell_type": "code",
   "execution_count": null,
   "id": "7cf4c80f",
   "metadata": {},
   "outputs": [],
   "source": [
    "a = {1, 2, 3}\n",
    "b = {2, 3, 4}\n",
    "print(\"Intersecção:\", a & b)"
   ]
  },
  {
   "cell_type": "markdown",
   "id": "a815ab5c",
   "metadata": {},
   "source": [
    "## 097 Sets Strings"
   ]
  },
  {
   "cell_type": "code",
   "execution_count": null,
   "id": "d0ec1069",
   "metadata": {},
   "outputs": [],
   "source": [
    "texto = \"banana\"\n",
    "unicos = set(texto)\n",
    "print(unicos)"
   ]
  },
  {
   "cell_type": "markdown",
   "id": "72179d28",
   "metadata": {},
   "source": [
    "## 098 Intro Dict"
   ]
  },
  {
   "cell_type": "code",
   "execution_count": null,
   "id": "7fa33474",
   "metadata": {},
   "outputs": [],
   "source": [
    "pessoa = {\"nome\": \"João\", \"idade\": 30}\n",
    "print(pessoa[\"nome\"])"
   ]
  },
  {
   "cell_type": "markdown",
   "id": "8415fb8c",
   "metadata": {},
   "source": [
    "## 099 Atualizando Dict"
   ]
  },
  {
   "cell_type": "code",
   "execution_count": null,
   "id": "57ae9c52",
   "metadata": {},
   "outputs": [],
   "source": [
    "pessoa = {\"nome\": \"João\"}\n",
    "pessoa[\"idade\"] = 31\n",
    "print(pessoa)"
   ]
  },
  {
   "cell_type": "markdown",
   "id": "455390b3",
   "metadata": {},
   "source": [
    "## 100 Loop Dict"
   ]
  },
  {
   "cell_type": "code",
   "execution_count": null,
   "id": "3e6f0a9b",
   "metadata": {},
   "outputs": [],
   "source": [
    "dados = {\"a\": 1, \"b\": 2}\n",
    "for chave in dados:\n",
    "    print(chave, dados[chave])"
   ]
  },
  {
   "cell_type": "markdown",
   "id": "0a33f873",
   "metadata": {},
   "source": [
    "## 101 Itens Keys Values"
   ]
  },
  {
   "cell_type": "code",
   "execution_count": null,
   "id": "17be0150",
   "metadata": {},
   "outputs": [],
   "source": [
    "dados = {\"x\": 10, \"y\": 20}\n",
    "print(list(dados.items()))\n",
    "print(list(dados.keys()))\n",
    "print(list(dados.values()))"
   ]
  },
  {
   "cell_type": "markdown",
   "id": "5ec260c5",
   "metadata": {},
   "source": [
    "## 102 Lambda"
   ]
  },
  {
   "cell_type": "code",
   "execution_count": null,
   "id": "52cc81a3",
   "metadata": {},
   "outputs": [],
   "source": [
    "soma = lambda a, b: a + b\n",
    "print(soma(2, 3))"
   ]
  },
  {
   "cell_type": "markdown",
   "id": "9ee5c5cc",
   "metadata": {},
   "source": [
    "## 103 Lambda Em Funcao"
   ]
  },
  {
   "cell_type": "code",
   "execution_count": null,
   "id": "9ecfe82c",
   "metadata": {},
   "outputs": [],
   "source": [
    "def executar(f):\n",
    "    print(f(5))\n",
    "\n",
    "executar(lambda x: x * 2)"
   ]
  },
  {
   "cell_type": "markdown",
   "id": "1d8364f8",
   "metadata": {},
   "source": [
    "## 104 Map Lista"
   ]
  },
  {
   "cell_type": "code",
   "execution_count": null,
   "id": "63af90e6",
   "metadata": {},
   "outputs": [],
   "source": [
    "nums = [1, 2, 3]\n",
    "print(list(map(str, nums)))"
   ]
  },
  {
   "cell_type": "markdown",
   "id": "51368533",
   "metadata": {},
   "source": [
    "## 105 Map Lambda"
   ]
  },
  {
   "cell_type": "code",
   "execution_count": null,
   "id": "ddb3f789",
   "metadata": {},
   "outputs": [],
   "source": [
    "print(list(map(lambda x: x**2, [1, 2, 3])))"
   ]
  },
  {
   "cell_type": "markdown",
   "id": "48c1eb41",
   "metadata": {},
   "source": [
    "## 106 Filter"
   ]
  },
  {
   "cell_type": "code",
   "execution_count": null,
   "id": "d58e2713",
   "metadata": {},
   "outputs": [],
   "source": [
    "pares = filter(lambda x: x % 2 == 0, [1, 2, 3, 4])\n",
    "print(list(pares))"
   ]
  },
  {
   "cell_type": "markdown",
   "id": "5022f075",
   "metadata": {},
   "source": [
    "## 107 List Comp Strings"
   ]
  },
  {
   "cell_type": "code",
   "execution_count": null,
   "id": "49c706ef",
   "metadata": {},
   "outputs": [],
   "source": [
    "nomes = [\"ana\", \"bob\"]\n",
    "maiusculas = [n.upper() for n in nomes]\n",
    "print(maiusculas)"
   ]
  },
  {
   "cell_type": "markdown",
   "id": "9df316ed",
   "metadata": {},
   "source": [
    "## 108 List Comp Numeros"
   ]
  },
  {
   "cell_type": "code",
   "execution_count": null,
   "id": "a6fa7b3f",
   "metadata": {},
   "outputs": [],
   "source": [
    "quadrados = [x**2 for x in range(5)]\n",
    "print(quadrados)"
   ]
  },
  {
   "cell_type": "markdown",
   "id": "03954f94",
   "metadata": {},
   "source": [
    "## 109 Generator Expr"
   ]
  },
  {
   "cell_type": "code",
   "execution_count": null,
   "id": "69099690",
   "metadata": {},
   "outputs": [],
   "source": [
    "gen = (x * 2 for x in range(3))\n",
    "for val in gen:\n",
    "    print(val)"
   ]
  }
 ],
 "metadata": {},
 "nbformat": 4,
 "nbformat_minor": 5
}