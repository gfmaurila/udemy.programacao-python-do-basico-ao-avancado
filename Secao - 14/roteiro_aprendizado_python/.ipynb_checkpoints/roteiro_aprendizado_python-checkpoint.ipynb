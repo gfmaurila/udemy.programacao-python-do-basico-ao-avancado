{
 "cells": [
  {
   "cell_type": "markdown",
   "id": "1bbdfdb7",
   "metadata": {},
   "source": [
    "# 🐍 Roteiro de Aprendizado em Python\n",
    "Este notebook contém exemplos práticos de cada etapa do roteiro de aprendizado em Python."
   ]
  },
  {
   "cell_type": "markdown",
   "id": "d72dbe0f",
   "metadata": {},
   "source": [
    "## 1 Basico"
   ]
  },
  {
   "cell_type": "code",
   "execution_count": null,
   "id": "26e09ab4",
   "metadata": {},
   "outputs": [],
   "source": [
    "# 1. Básico: Sintaxe, tipos, estruturas, funções\n",
    "def saudacao(nome):\n",
    "    print(f\"Olá, {nome}!\")\n",
    "\n",
    "saudacao(\"Python\")"
   ]
  },
  {
   "cell_type": "markdown",
   "id": "45f84804",
   "metadata": {},
   "source": [
    "## 2 Poo"
   ]
  },
  {
   "cell_type": "code",
   "execution_count": null,
   "id": "faf7c784",
   "metadata": {},
   "outputs": [],
   "source": [
    "# 2. POO: Classes, Herança, Métodos\n",
    "class Animal:\n",
    "    def falar(self):\n",
    "        return \"Som\"\n",
    "\n",
    "class Cachorro(Animal):\n",
    "    def falar(self):\n",
    "        return \"Latido\"\n",
    "\n",
    "c = Cachorro()\n",
    "print(c.falar())"
   ]
  },
  {
   "cell_type": "markdown",
   "id": "021c4632",
   "metadata": {},
   "source": [
    "## 3 Eds Algoritmos"
   ]
  },
  {
   "cell_type": "code",
   "execution_count": null,
   "id": "8e3e36c0",
   "metadata": {},
   "outputs": [],
   "source": [
    "# 3. Estruturas de Dados e Algoritmos\n",
    "def busca_binaria(lista, alvo):\n",
    "    inicio, fim = 0, len(lista) - 1\n",
    "    while inicio <= fim:\n",
    "        meio = (inicio + fim) // 2\n",
    "        if lista[meio] == alvo:\n",
    "            return meio\n",
    "        elif lista[meio] < alvo:\n",
    "            inicio = meio + 1\n",
    "        else:\n",
    "            fim = meio - 1\n",
    "    return -1\n",
    "\n",
    "print(busca_binaria([1, 3, 5, 7, 9], 5))"
   ]
  },
  {
   "cell_type": "markdown",
   "id": "41776fda",
   "metadata": {},
   "source": [
    "## 4 Gerenciadores Pacotes"
   ]
  },
  {
   "cell_type": "code",
   "execution_count": null,
   "id": "4f7accfc",
   "metadata": {},
   "outputs": [],
   "source": [
    "# 4. Gerenciadores de Pacotes (PIP exemplo)\n",
    "# pip install pandas (executado no terminal, não no código)\n",
    "\n",
    "import pandas as pd\n",
    "print(\"Pandas importado com sucesso!\")"
   ]
  },
  {
   "cell_type": "markdown",
   "id": "e04ba09e",
   "metadata": {},
   "source": [
    "## 5 Avancado"
   ]
  },
  {
   "cell_type": "code",
   "execution_count": null,
   "id": "faaeb8e4",
   "metadata": {},
   "outputs": [],
   "source": [
    "# 5. Avançado: List comprehensions, Decorators\n",
    "quadrados = [x**2 for x in range(5)]\n",
    "print(\"Quadrados:\", quadrados)\n",
    "\n",
    "def decorador(func):\n",
    "    def interno():\n",
    "        print(\"Antes da função\")\n",
    "        func()\n",
    "        print(\"Depois da função\")\n",
    "    return interno\n",
    "\n",
    "@decorador\n",
    "def dizer_oi():\n",
    "    print(\"Oi\")\n",
    "\n",
    "dizer_oi()"
   ]
  },
  {
   "cell_type": "markdown",
   "id": "cc0acfba",
   "metadata": {},
   "source": [
    "## 6 Frameworks Web"
   ]
  },
  {
   "cell_type": "code",
   "execution_count": null,
   "id": "635da0ef",
   "metadata": {},
   "outputs": [],
   "source": [
    "# 6. Frameworks Web: Exemplo com Flask\n",
    "from flask import Flask\n",
    "app = Flask(__name__)\n",
    "\n",
    "@app.route(\"/\")\n",
    "def home():\n",
    "    return \"Bem-vindo ao Flask!\"\n",
    "\n",
    "# app.run(debug=True)  # Descomente para rodar localmente"
   ]
  },
  {
   "cell_type": "markdown",
   "id": "61a59a95",
   "metadata": {},
   "source": [
    "## 7 Automacao"
   ]
  },
  {
   "cell_type": "code",
   "execution_count": null,
   "id": "e75e122b",
   "metadata": {},
   "outputs": [],
   "source": [
    "# 7. Automação: Manipulação de arquivos\n",
    "with open(\"arquivo_exemplo.txt\", \"w\") as f:\n",
    "    f.write(\"Este arquivo foi criado por automação em Python.\")\n",
    "\n",
    "print(\"Arquivo criado com sucesso.\")"
   ]
  },
  {
   "cell_type": "markdown",
   "id": "fbf76d17",
   "metadata": {},
   "source": [
    "## 8 Testes"
   ]
  },
  {
   "cell_type": "code",
   "execution_count": null,
   "id": "1c94f605",
   "metadata": {},
   "outputs": [],
   "source": [
    "# 8. Testes: Teste unitário simples\n",
    "def dobrar(n):\n",
    "    return n * 2\n",
    "\n",
    "def test_dobrar():\n",
    "    assert dobrar(2) == 4\n",
    "    assert dobrar(5) == 10\n",
    "\n",
    "test_dobrar()\n",
    "print(\"Todos os testes passaram.\")"
   ]
  }
 ],
 "metadata": {},
 "nbformat": 4,
 "nbformat_minor": 5
}