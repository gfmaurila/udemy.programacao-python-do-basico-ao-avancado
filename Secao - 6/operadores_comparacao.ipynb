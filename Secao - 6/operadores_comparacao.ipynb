{
 "cells": [
  {
   "cell_type": "markdown",
   "id": "22c804a4",
   "metadata": {},
   "source": [
    "# 🔍 Exemplos de Operadores de Comparação em Python"
   ]
  },
  {
   "cell_type": "markdown",
   "id": "01003da8",
   "metadata": {},
   "source": [
    "## Igualdade (==)"
   ]
  },
  {
   "cell_type": "code",
   "execution_count": null,
   "id": "fd1ded3c",
   "metadata": {},
   "outputs": [],
   "source": [
    "\n",
    "a = 10\n",
    "b = 10\n",
    "print(\"a == b:\", a == b)  # True\n"
   ]
  },
  {
   "cell_type": "markdown",
   "id": "a58ac43f",
   "metadata": {},
   "source": [
    "## Diferença (!=)"
   ]
  },
  {
   "cell_type": "code",
   "execution_count": null,
   "id": "2c7bf321",
   "metadata": {},
   "outputs": [],
   "source": [
    "\n",
    "a = 10\n",
    "b = 20\n",
    "print(\"a != b:\", a != b)  # True\n"
   ]
  },
  {
   "cell_type": "markdown",
   "id": "74eeabfe",
   "metadata": {},
   "source": [
    "## Maior que (>)"
   ]
  },
  {
   "cell_type": "code",
   "execution_count": null,
   "id": "04f9cef9",
   "metadata": {},
   "outputs": [],
   "source": [
    "\n",
    "a = 15\n",
    "b = 10\n",
    "print(\"a > b:\", a > b)  # True\n"
   ]
  },
  {
   "cell_type": "markdown",
   "id": "3e5a741c",
   "metadata": {},
   "source": [
    "## Menor que (<)"
   ]
  },
  {
   "cell_type": "code",
   "execution_count": null,
   "id": "8f2837ef",
   "metadata": {},
   "outputs": [],
   "source": [
    "\n",
    "a = 5\n",
    "b = 8\n",
    "print(\"a < b:\", a < b)  # True\n"
   ]
  },
  {
   "cell_type": "markdown",
   "id": "3e06ba71",
   "metadata": {},
   "source": [
    "## Maior ou igual (>=)"
   ]
  },
  {
   "cell_type": "code",
   "execution_count": null,
   "id": "ab67f03e",
   "metadata": {},
   "outputs": [],
   "source": [
    "\n",
    "a = 7\n",
    "b = 7\n",
    "print(\"a >= b:\", a >= b)  # True\n"
   ]
  },
  {
   "cell_type": "markdown",
   "id": "748cae77",
   "metadata": {},
   "source": [
    "## Menor ou igual (<=)"
   ]
  },
  {
   "cell_type": "code",
   "execution_count": null,
   "id": "73dbf77f",
   "metadata": {},
   "outputs": [],
   "source": [
    "\n",
    "a = 3\n",
    "b = 10\n",
    "print(\"a <= b:\", a <= b)  # True\n"
   ]
  },
  {
   "cell_type": "markdown",
   "id": "19676b89",
   "metadata": {},
   "source": [
    "## Comparando strings"
   ]
  },
  {
   "cell_type": "code",
   "execution_count": null,
   "id": "ecd929d4",
   "metadata": {},
   "outputs": [],
   "source": [
    "\n",
    "nome1 = \"ana\"\n",
    "nome2 = \"ana\"\n",
    "print(\"nome1 == nome2:\", nome1 == nome2)  # True\n",
    "\n",
    "nome3 = \"Ana\"\n",
    "print(\"nome1 == nome3:\", nome1 == nome3)  # False (case sensitive)\n"
   ]
  },
  {
   "cell_type": "markdown",
   "id": "a12226d6",
   "metadata": {},
   "source": [
    "## Comparando listas"
   ]
  },
  {
   "cell_type": "code",
   "execution_count": null,
   "id": "45ddfb88",
   "metadata": {},
   "outputs": [],
   "source": [
    "\n",
    "lista1 = [1, 2, 3]\n",
    "lista2 = [1, 2, 3]\n",
    "lista3 = [3, 2, 1]\n",
    "\n",
    "print(\"lista1 == lista2:\", lista1 == lista2)  # True\n",
    "print(\"lista1 == lista3:\", lista1 == lista3)  # False\n"
   ]
  }
 ],
 "metadata": {},
 "nbformat": 4,
 "nbformat_minor": 5
}