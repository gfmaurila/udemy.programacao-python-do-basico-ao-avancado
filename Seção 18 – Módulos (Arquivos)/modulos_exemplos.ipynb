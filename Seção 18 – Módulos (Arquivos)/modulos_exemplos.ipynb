{
 "cells": [
  {
   "cell_type": "markdown",
   "id": "405285f1",
   "metadata": {},
   "source": [
    "# 📦 Módulos e Pacotes em Python - Seção 18"
   ]
  },
  {
   "cell_type": "markdown",
   "id": "f4aba007",
   "metadata": {},
   "source": [
    "Este notebook demonstra como criar, importar e aplicar módulos e packages em Python."
   ]
  },
  {
   "cell_type": "markdown",
   "id": "012dc926",
   "metadata": {},
   "source": [
    "## Modulo Util"
   ]
  },
  {
   "cell_type": "code",
   "execution_count": null,
   "id": "b0c7bd6a",
   "metadata": {},
   "outputs": [],
   "source": [
    "# Este é o conteúdo de um módulo chamado modulo_util\n",
    "def saudacao(nome):\n",
    "    return f\"Olá, {nome}!\""
   ]
  },
  {
   "cell_type": "markdown",
   "id": "86e2526d",
   "metadata": {},
   "source": [
    "## 120 Criando Modulo"
   ]
  },
  {
   "cell_type": "code",
   "execution_count": null,
   "id": "86d6c85a",
   "metadata": {},
   "outputs": [],
   "source": [
    "# Criando um módulo: veja 'modulo_util.py'\n",
    "# Ele contém uma função chamada 'saudacao'\n",
    "print(\"Módulo criado com sucesso!\")"
   ]
  },
  {
   "cell_type": "markdown",
   "id": "d0a62c81",
   "metadata": {},
   "source": [
    "## 121 Importando Modulo"
   ]
  },
  {
   "cell_type": "code",
   "execution_count": null,
   "id": "b950eb9b",
   "metadata": {},
   "outputs": [],
   "source": [
    "# Importando o módulo criado\n",
    "import modulo_util\n",
    "print(modulo_util.saudacao(\"Carlos\"))"
   ]
  },
  {
   "cell_type": "markdown",
   "id": "278f20a4",
   "metadata": {},
   "source": [
    "## 122 Package Demo/Saudacoes"
   ]
  },
  {
   "cell_type": "code",
   "execution_count": null,
   "id": "0c422a29",
   "metadata": {},
   "outputs": [],
   "source": [
    "def ola():\n",
    "    return \"Olá do pacote!\"\n",
    "\n",
    "def tchau():\n",
    "    return \"Tchau do pacote!\""
   ]
  },
  {
   "cell_type": "markdown",
   "id": "5ad70069",
   "metadata": {},
   "source": [
    "## 122 Importando Package"
   ]
  },
  {
   "cell_type": "code",
   "execution_count": null,
   "id": "3f6e4e0a",
   "metadata": {},
   "outputs": [],
   "source": [
    "# Importando funções de um package\n",
    "from package_demo import saudacoes\n",
    "\n",
    "print(saudacoes.ola())\n",
    "print(saudacoes.tchau())"
   ]
  },
  {
   "cell_type": "markdown",
   "id": "db74ae85",
   "metadata": {},
   "source": [
    "## 123 Aplicando Modulo"
   ]
  },
  {
   "cell_type": "code",
   "execution_count": null,
   "id": "699e9378",
   "metadata": {},
   "outputs": [],
   "source": [
    "# Aplicando um módulo externo\n",
    "import math\n",
    "\n",
    "print(\"Raiz quadrada de 16:\", math.sqrt(16))\n",
    "print(\"Fatorial de 5:\", math.factorial(5))"
   ]
  }
 ],
 "metadata": {},
 "nbformat": 4,
 "nbformat_minor": 5
}