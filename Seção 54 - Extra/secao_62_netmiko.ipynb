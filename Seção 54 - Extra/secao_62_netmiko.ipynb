{
 "cells": [
  {
   "cell_type": "markdown",
   "id": "512c8c3c",
   "metadata": {},
   "source": [
    "# 💻 Notebook - Secao 62 Netmiko"
   ]
  },
  {
   "cell_type": "markdown",
   "id": "378bd1bf",
   "metadata": {},
   "source": [
    "## netmiko_script.py"
   ]
  },
  {
   "cell_type": "code",
   "execution_count": null,
   "id": "1b672d06",
   "metadata": {},
   "outputs": [],
   "source": [
    "# Script Netmiko para acesso a roteadores\n",
    "from netmiko import ConnectHandler\n",
    "\n",
    "device = {\n",
    "    'device_type': 'cisco_ios',\n",
    "    'host': '192.168.1.1',\n",
    "    'username': 'admin',\n",
    "    'password': 'admin'\n",
    "}\n",
    "\n",
    "# connection = ConnectHandler(**device)\n",
    "# connection.send_command(\"show ip int brief\")\n",
    "print(\"Simulação de conexão com Netmiko\")"
   ]
  }
 ],
 "metadata": {},
 "nbformat": 4,
 "nbformat_minor": 5
}