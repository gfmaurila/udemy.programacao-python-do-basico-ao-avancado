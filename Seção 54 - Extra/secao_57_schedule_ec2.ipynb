{
 "cells": [
  {
   "cell_type": "markdown",
   "id": "abe573f8",
   "metadata": {},
   "source": [
    "# 💻 Notebook - Secao 57 Schedule Ec2"
   ]
  },
  {
   "cell_type": "markdown",
   "id": "fd38dc32",
   "metadata": {},
   "source": [
    "## schedule_ec2.py"
   ]
  },
  {
   "cell_type": "code",
   "execution_count": null,
   "id": "5c6325fe",
   "metadata": {},
   "outputs": [],
   "source": [
    "# Ligar/Desligar EC2 com agendamento (simulado)\n",
    "import boto3\n",
    "\n",
    "def desligar_instancia(instancia_id):\n",
    "    print(f\"Desligando {instancia_id} (simulado)\")\n",
    "\n",
    "def ligar_instancia(instancia_id):\n",
    "    print(f\"Ligando {instancia_id} (simulado)\")"
   ]
  }
 ],
 "metadata": {},
 "nbformat": 4,
 "nbformat_minor": 5
}