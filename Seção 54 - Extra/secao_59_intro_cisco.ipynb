{
 "cells": [
  {
   "cell_type": "markdown",
   "id": "05e58fe8",
   "metadata": {},
   "source": [
    "# 💻 Notebook - Secao 59 Intro Cisco"
   ]
  },
  {
   "cell_type": "markdown",
   "id": "39d4cade",
   "metadata": {},
   "source": [
    "## intro_cisco.py"
   ]
  },
  {
   "cell_type": "code",
   "execution_count": null,
   "id": "f31ba44b",
   "metadata": {},
   "outputs": [],
   "source": [
    "# Primeiros passos com automação Cisco"
   ]
  }
 ],
 "metadata": {},
 "nbformat": 4,
 "nbformat_minor": 5
}