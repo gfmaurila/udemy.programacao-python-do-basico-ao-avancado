{
 "cells": [
  {
   "cell_type": "markdown",
   "id": "b05b9b1e",
   "metadata": {},
   "source": [
    "# 💻 Notebook - Secao 60 Gns3"
   ]
  },
  {
   "cell_type": "markdown",
   "id": "76319b9a",
   "metadata": {},
   "source": [
    "## gns3_lab.py"
   ]
  },
  {
   "cell_type": "code",
   "execution_count": null,
   "id": "68ad7417",
   "metadata": {},
   "outputs": [],
   "source": [
    "# Simulação de ambiente GNS3 com Cisco IOS"
   ]
  }
 ],
 "metadata": {},
 "nbformat": 4,
 "nbformat_minor": 5
}