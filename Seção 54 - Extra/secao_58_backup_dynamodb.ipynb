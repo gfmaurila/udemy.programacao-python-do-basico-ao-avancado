{
 "cells": [
  {
   "cell_type": "markdown",
   "id": "92333b77",
   "metadata": {},
   "source": [
    "# 💻 Notebook - Secao 58 Backup Dynamodb"
   ]
  },
  {
   "cell_type": "markdown",
   "id": "e23fd24f",
   "metadata": {},
   "source": [
    "## backup_dynamodb.py"
   ]
  },
  {
   "cell_type": "code",
   "execution_count": null,
   "id": "d7e2d91c",
   "metadata": {},
   "outputs": [],
   "source": [
    "# Backup de tabelas DynamoDB (simulado)\n",
    "import boto3\n",
    "\n",
    "def criar_backup(tabela):\n",
    "    print(f\"Backup simulado da tabela {tabela}\")"
   ]
  }
 ],
 "metadata": {},
 "nbformat": 4,
 "nbformat_minor": 5
}