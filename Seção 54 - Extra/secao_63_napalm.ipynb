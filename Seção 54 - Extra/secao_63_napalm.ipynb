{
 "cells": [
  {
   "cell_type": "markdown",
   "id": "aabc7016",
   "metadata": {},
   "source": [
    "# 💻 Notebook - Secao 63 Napalm"
   ]
  },
  {
   "cell_type": "markdown",
   "id": "d3348ad0",
   "metadata": {},
   "source": [
    "## napalm_script.py"
   ]
  },
  {
   "cell_type": "code",
   "execution_count": null,
   "id": "630dbdff",
   "metadata": {},
   "outputs": [],
   "source": [
    "# Script NAPALM para coletar informações\n",
    "from napalm import get_network_driver\n",
    "\n",
    "driver = get_network_driver(\"ios\")\n",
    "# device = driver(\"192.168.1.1\", \"admin\", \"admin\")\n",
    "# device.open()\n",
    "# print(device.get_facts())\n",
    "print(\"Simulação de conexão com NAPALM\")"
   ]
  }
 ],
 "metadata": {},
 "nbformat": 4,
 "nbformat_minor": 5
}