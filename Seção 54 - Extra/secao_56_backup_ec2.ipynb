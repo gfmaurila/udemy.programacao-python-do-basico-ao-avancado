{
 "cells": [
  {
   "cell_type": "markdown",
   "id": "2a4d0ae5",
   "metadata": {},
   "source": [
    "# 💻 Notebook - Secao 56 Backup Ec2"
   ]
  },
  {
   "cell_type": "markdown",
   "id": "189919a3",
   "metadata": {},
   "source": [
    "## backup_ec2.py"
   ]
  },
  {
   "cell_type": "code",
   "execution_count": null,
   "id": "a201e574",
   "metadata": {},
   "outputs": [],
   "source": [
    "# Backup programado de EC2 (simulado)\n",
    "import boto3\n",
    "\n",
    "def criar_snapshot(instancia_id):\n",
    "    ec2 = boto3.client('ec2')\n",
    "    volumes = ec2.describe_instances(InstanceIds=[instancia_id])\n",
    "    print(\"Backup simulado para instância:\", instancia_id)\n",
    "\n",
    "# criar_snapshot('i-1234567890abcdef0')"
   ]
  }
 ],
 "metadata": {},
 "nbformat": 4,
 "nbformat_minor": 5
}