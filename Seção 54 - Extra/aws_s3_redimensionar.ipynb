{
 "cells": [
  {
   "cell_type": "markdown",
   "id": "f7b23015",
   "metadata": {},
   "source": [
    "# 🖼️ Automação AWS - Redução de Imagens no S3 (Seção 55)"
   ]
  },
  {
   "cell_type": "markdown",
   "id": "4d3db51e",
   "metadata": {},
   "source": [
    "Este notebook simula o download, redimensionamento e reenvio de imagens em um bucket S3 usando `boto3` e `Pillow`."
   ]
  },
  {
   "cell_type": "code",
   "execution_count": null,
   "id": "8dbf2174",
   "metadata": {},
   "outputs": [],
   "source": [
    "# Script: Reduzindo o tamanho de imagens no AWS S3 (simulado)\n",
    "# Requer: boto3, pillow\n",
    "\n",
    "import boto3\n",
    "from PIL import Image\n",
    "import io\n",
    "\n",
    "def redimensionar_imagem(imagem_bytes, nova_largura=300):\n",
    "    imagem = Image.open(io.BytesIO(imagem_bytes))\n",
    "    proporcao = nova_largura / float(imagem.size[0])\n",
    "    nova_altura = int((float(imagem.size[1]) * float(proporcao)))\n",
    "    imagem_redimensionada = imagem.resize((nova_largura, nova_altura))\n",
    "    \n",
    "    buffer = io.BytesIO()\n",
    "    imagem_redimensionada.save(buffer, format='JPEG')\n",
    "    buffer.seek(0)\n",
    "    return buffer\n",
    "\n",
    "def processar_imagem_s3(bucket, chave_origem, chave_destino):\n",
    "    s3 = boto3.client('s3')\n",
    "    print(\"Baixando imagem de:\", chave_origem)\n",
    "\n",
    "    obj = s3.get_object(Bucket=bucket, Key=chave_origem)\n",
    "    imagem_bytes = obj['Body'].read()\n",
    "\n",
    "    imagem_red = redimensionar_imagem(imagem_bytes)\n",
    "\n",
    "    print(\"Enviando imagem redimensionada para:\", chave_destino)\n",
    "    s3.put_object(Bucket=bucket, Key=chave_destino, Body=imagem_red, ContentType='image/jpeg')\n",
    "    print(\"Processo concluído.\")\n",
    "\n",
    "# Simulação:\n",
    "# processar_imagem_s3(\"meu-bucket\", \"imagens/original.jpg\", \"imagens/redimensionado.jpg\")"
   ]
  }
 ],
 "metadata": {},
 "nbformat": 4,
 "nbformat_minor": 5
}