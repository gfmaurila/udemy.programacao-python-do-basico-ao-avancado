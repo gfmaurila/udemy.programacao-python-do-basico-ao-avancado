{
 "cells": [
  {
   "cell_type": "markdown",
   "id": "e75f033a",
   "metadata": {},
   "source": [
    "# 💻 Notebook - Secao 61 Python Cisco"
   ]
  },
  {
   "cell_type": "markdown",
   "id": "9116e78d",
   "metadata": {},
   "source": [
    "## telnet_vlans.py"
   ]
  },
  {
   "cell_type": "code",
   "execution_count": null,
   "id": "d23107a0",
   "metadata": {},
   "outputs": [],
   "source": [
    "# Telnet + VLAN + OSPF (simulado)\n",
    "print(\"Criando VLANs e configurando OSPF via script Python (simulado)\")"
   ]
  }
 ],
 "metadata": {},
 "nbformat": 4,
 "nbformat_minor": 5
}