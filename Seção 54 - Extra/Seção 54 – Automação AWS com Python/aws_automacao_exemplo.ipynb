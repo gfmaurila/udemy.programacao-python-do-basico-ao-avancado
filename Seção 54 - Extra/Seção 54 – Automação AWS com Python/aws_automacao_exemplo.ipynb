{
 "cells": [
  {
   "cell_type": "markdown",
   "id": "4fb6752a",
   "metadata": {},
   "source": [
    "# ☁️ Automação AWS com Python - Seção 54"
   ]
  },
  {
   "cell_type": "markdown",
   "id": "89b51585",
   "metadata": {},
   "source": [
    "Exemplo de script para criar instâncias EC2 na AWS utilizando a biblioteca `boto3`. Este é um exemplo de uso simulado (não executa real)."
   ]
  },
  {
   "cell_type": "code",
   "execution_count": null,
   "id": "02685644",
   "metadata": {},
   "outputs": [],
   "source": [
    "# Exemplo: Criando uma instância EC2 com boto3 (simulado)\n",
    "\n",
    "import boto3\n",
    "\n",
    "def criar_instancia_ec2():\n",
    "    # Crie um cliente EC2 com suas credenciais (reais ou via perfil configurado)\n",
    "    ec2 = boto3.resource('ec2', region_name='us-east-1')\n",
    "\n",
    "    print(\"Criando instância EC2...\")\n",
    "\n",
    "    # Simulação de chamada real\n",
    "    instancia = ec2.create_instances(\n",
    "        ImageId='ami-0c55b159cbfafe1f0',  # Exemplo Amazon Linux 2\n",
    "        MinCount=1,\n",
    "        MaxCount=1,\n",
    "        InstanceType='t2.micro',\n",
    "        KeyName='sua-chave-ec2',  # Substitua pelo nome de sua key pair\n",
    "        TagSpecifications=[{\n",
    "            'ResourceType': 'instance',\n",
    "            'Tags': [{'Key': 'Name', 'Value': 'InstanciaPythonGPT'}]\n",
    "        }]\n",
    "    )\n",
    "\n",
    "    print(\"Instância criada. ID:\", instancia[0].id)\n",
    "\n",
    "# descomente para executar:\n",
    "# criar_instancia_ec2()"
   ]
  }
 ],
 "metadata": {},
 "nbformat": 4,
 "nbformat_minor": 5
}