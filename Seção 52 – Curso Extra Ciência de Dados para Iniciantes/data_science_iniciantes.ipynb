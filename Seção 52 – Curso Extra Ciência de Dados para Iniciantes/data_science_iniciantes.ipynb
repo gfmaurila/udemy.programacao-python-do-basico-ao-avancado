{
 "cells": [
  {
   "cell_type": "markdown",
   "id": "b723dded",
   "metadata": {},
   "source": [
    "# 📊 Data Science para Iniciantes - Seção 52"
   ]
  },
  {
   "cell_type": "markdown",
   "id": "58ee19a6",
   "metadata": {},
   "source": [
    "Este notebook contém exemplos práticos com pandas, numpy e matplotlib."
   ]
  },
  {
   "cell_type": "markdown",
   "id": "e374a970",
   "metadata": {},
   "source": [
    "## Pandas Leitura Dados"
   ]
  },
  {
   "cell_type": "code",
   "execution_count": null,
   "id": "aa37e22b",
   "metadata": {},
   "outputs": [],
   "source": [
    "import pandas as pd\n",
    "\n",
    "df = pd.read_csv(\"funcionarios.csv\")\n",
    "print(df.head())"
   ]
  },
  {
   "cell_type": "markdown",
   "id": "7b6b6a2b",
   "metadata": {},
   "source": [
    "## Pandas Filtrar Condicoes"
   ]
  },
  {
   "cell_type": "code",
   "execution_count": null,
   "id": "2355d52b",
   "metadata": {},
   "outputs": [],
   "source": [
    "import pandas as pd\n",
    "\n",
    "df = pd.read_csv(\"funcionarios.csv\")\n",
    "filtrados = df[df[\"Idade\"] > 30]\n",
    "print(filtrados)"
   ]
  },
  {
   "cell_type": "markdown",
   "id": "7e443de7",
   "metadata": {},
   "source": [
    "## Pandas Groupby"
   ]
  },
  {
   "cell_type": "code",
   "execution_count": null,
   "id": "c5c69e74",
   "metadata": {},
   "outputs": [],
   "source": [
    "import pandas as pd\n",
    "\n",
    "df = pd.read_csv(\"funcionarios.csv\")\n",
    "agrupado = df.groupby(\"Departamento\")[\"Salario\"].mean()\n",
    "print(agrupado)"
   ]
  },
  {
   "cell_type": "markdown",
   "id": "ba874e1d",
   "metadata": {},
   "source": [
    "## Pandas Adicionar Coluna"
   ]
  },
  {
   "cell_type": "code",
   "execution_count": null,
   "id": "bf46dfde",
   "metadata": {},
   "outputs": [],
   "source": [
    "import pandas as pd\n",
    "\n",
    "df = pd.read_csv(\"funcionarios.csv\")\n",
    "df[\"Bonus\"] = df[\"Salario\"] * 0.1\n",
    "print(df)"
   ]
  },
  {
   "cell_type": "markdown",
   "id": "9d93f0f9",
   "metadata": {},
   "source": [
    "## Pandas Exportar Csv"
   ]
  },
  {
   "cell_type": "code",
   "execution_count": null,
   "id": "6702d6de",
   "metadata": {},
   "outputs": [],
   "source": [
    "import pandas as pd\n",
    "\n",
    "df = pd.read_csv(\"funcionarios.csv\")\n",
    "df.to_csv(\"funcionarios_exportado.csv\", index=False)\n",
    "print(\"Arquivo exportado.\")"
   ]
  },
  {
   "cell_type": "markdown",
   "id": "25f6d538",
   "metadata": {},
   "source": [
    "## Numpy Basico"
   ]
  },
  {
   "cell_type": "code",
   "execution_count": null,
   "id": "25ddbd84",
   "metadata": {},
   "outputs": [],
   "source": [
    "import numpy as np\n",
    "\n",
    "a = np.array([1, 2, 3])\n",
    "b = np.array([4, 5, 6])\n",
    "print(\"Soma:\", a + b)"
   ]
  },
  {
   "cell_type": "markdown",
   "id": "799a5d98",
   "metadata": {},
   "source": [
    "## Numpy Multidimensional"
   ]
  },
  {
   "cell_type": "code",
   "execution_count": null,
   "id": "3e6e5fd3",
   "metadata": {},
   "outputs": [],
   "source": [
    "import numpy as np\n",
    "\n",
    "array_2d = np.array([[1, 2], [3, 4]])\n",
    "print(\"2D Array:\")\n",
    "print(array_2d)"
   ]
  },
  {
   "cell_type": "markdown",
   "id": "19d0c4c3",
   "metadata": {},
   "source": [
    "## Matplotlib Grafico"
   ]
  },
  {
   "cell_type": "code",
   "execution_count": null,
   "id": "6e85df39",
   "metadata": {},
   "outputs": [],
   "source": [
    "import matplotlib.pyplot as plt\n",
    "\n",
    "x = [1, 2, 3, 4]\n",
    "y = [10, 15, 13, 20]\n",
    "\n",
    "plt.plot(x, y)\n",
    "plt.title(\"Exemplo de Gráfico\")\n",
    "plt.xlabel(\"Eixo X\")\n",
    "plt.ylabel(\"Eixo Y\")\n",
    "plt.savefig(\"grafico.png\")\n",
    "plt.show()"
   ]
  }
 ],
 "metadata": {},
 "nbformat": 4,
 "nbformat_minor": 5
}