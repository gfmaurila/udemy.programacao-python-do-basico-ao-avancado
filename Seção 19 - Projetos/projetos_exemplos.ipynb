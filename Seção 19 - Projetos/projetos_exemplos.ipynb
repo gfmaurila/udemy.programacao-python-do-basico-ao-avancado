{
 "cells": [
  {
   "cell_type": "markdown",
   "id": "1bc4419e",
   "metadata": {},
   "source": [
    "# 🎯 Projetos Python - Seção 19"
   ]
  },
  {
   "cell_type": "markdown",
   "id": "0e583133",
   "metadata": {},
   "source": [
    "Desafios e soluções com uso de funções, sets, estrutura condicional e lógica de programação."
   ]
  },
  {
   "cell_type": "markdown",
   "id": "31fc2e88",
   "metadata": {},
   "source": [
    "## 124 Uhuu Desafios"
   ]
  },
  {
   "cell_type": "code",
   "execution_count": null,
   "id": "1a11637a",
   "metadata": {},
   "outputs": [],
   "source": [
    "# Apenas título de introdução aos desafios\n",
    "print(\"Vamos aos desafios!\")"
   ]
  },
  {
   "cell_type": "markdown",
   "id": "0bc15e94",
   "metadata": {},
   "source": [
    "## 125 If Desafio Steak"
   ]
  },
  {
   "cell_type": "code",
   "execution_count": null,
   "id": "c2cf9e29",
   "metadata": {},
   "outputs": [],
   "source": [
    "# Desafio: ponto do steak\n",
    "ponto = input(\"Como você quer seu steak? (mal passado / ao ponto / bem passado): \").lower()\n",
    "if ponto == \"mal passado\":\n",
    "    print(\"Seu steak ficará vermelho por dentro.\")\n",
    "elif ponto == \"ao ponto\":\n",
    "    print(\"Seu steak ficará rosado por dentro.\")\n",
    "elif ponto == \"bem passado\":\n",
    "    print(\"Seu steak ficará marrom por dentro.\")\n",
    "else:\n",
    "    print(\"Opção inválida.\")"
   ]
  },
  {
   "cell_type": "markdown",
   "id": "20852309",
   "metadata": {},
   "source": [
    "## 126 If Solucao Steak"
   ]
  },
  {
   "cell_type": "code",
   "execution_count": null,
   "id": "cf577582",
   "metadata": {},
   "outputs": [],
   "source": [
    "# Solução do desafio: ponto do steak\n",
    "def ponto_steak(ponto):\n",
    "    mapa = {\n",
    "        \"mal passado\": \"vermelho por dentro\",\n",
    "        \"ao ponto\": \"rosado por dentro\",\n",
    "        \"bem passado\": \"marrom por dentro\"\n",
    "    }\n",
    "    return mapa.get(ponto.lower(), \"Opção inválida.\")\n",
    "\n",
    "print(ponto_steak(\"mal passado\"))"
   ]
  },
  {
   "cell_type": "markdown",
   "id": "00535ee3",
   "metadata": {},
   "source": [
    "## 127 Funcoes Desafio Pintura"
   ]
  },
  {
   "cell_type": "code",
   "execution_count": null,
   "id": "6b70ceb6",
   "metadata": {},
   "outputs": [],
   "source": [
    "# Desafio: calcular litros de tinta para pintura\n",
    "# 1 litro cobre 3m². Lata tem 18L.\n",
    "\n",
    "area = float(input(\"Digite a área a ser pintada em m²: \"))\n",
    "litros = area / 3\n",
    "latas = -(-litros // 18)  # arredondamento para cima\n",
    "\n",
    "print(f\"Você precisará de {int(latas)} latas de tinta.\")"
   ]
  },
  {
   "cell_type": "markdown",
   "id": "ece7fc4b",
   "metadata": {},
   "source": [
    "## 128 Funcoes Solucao Pintura"
   ]
  },
  {
   "cell_type": "code",
   "execution_count": null,
   "id": "a65be342",
   "metadata": {},
   "outputs": [],
   "source": [
    "# Solução: função de pintura\n",
    "import math\n",
    "\n",
    "def calcular_pintura(area):\n",
    "    litros = area / 3\n",
    "    latas = math.ceil(litros / 18)\n",
    "    return latas\n",
    "\n",
    "print(\"Latas necessárias:\", calcular_pintura(100))"
   ]
  },
  {
   "cell_type": "markdown",
   "id": "d45f29de",
   "metadata": {},
   "source": [
    "## 129 Sets Desafio Funcionarios"
   ]
  },
  {
   "cell_type": "code",
   "execution_count": null,
   "id": "3fb88c06",
   "metadata": {},
   "outputs": [],
   "source": [
    "# Desafio: comparar funcionários entre dois setores\n",
    "ti = {\"Ana\", \"Carlos\", \"João\"}\n",
    "rh = {\"Carlos\", \"Mariana\", \"João\"}\n",
    "\n",
    "# quem está nos dois?\n",
    "print(\"Funcionários em ambos:\", ti & rh)"
   ]
  },
  {
   "cell_type": "markdown",
   "id": "ad3feea7",
   "metadata": {},
   "source": [
    "## 130 Sets Solucao Funcionarios"
   ]
  },
  {
   "cell_type": "code",
   "execution_count": null,
   "id": "2297cff4",
   "metadata": {},
   "outputs": [],
   "source": [
    "# Solução: usando sets para interseção\n",
    "def funcionarios_em_comum(a, b):\n",
    "    return a & b\n",
    "\n",
    "print(funcionarios_em_comum({\"Ana\", \"Carlos\"}, {\"Carlos\", \"João\"}))"
   ]
  },
  {
   "cell_type": "markdown",
   "id": "bbc7b17e",
   "metadata": {},
   "source": [
    "## 131 If Elif Desafio Bmi"
   ]
  },
  {
   "cell_type": "code",
   "execution_count": null,
   "id": "5222d040",
   "metadata": {},
   "outputs": [],
   "source": [
    "# Desafio: cálculo de BMI (IMC)\n",
    "peso = float(input(\"Digite seu peso (kg): \"))\n",
    "altura = float(input(\"Digite sua altura (m): \"))\n",
    "imc = peso / (altura ** 2)\n",
    "\n",
    "if imc < 18.5:\n",
    "    print(\"Abaixo do peso\")\n",
    "elif imc < 25:\n",
    "    print(\"Peso normal\")\n",
    "elif imc < 30:\n",
    "    print(\"Sobrepeso\")\n",
    "else:\n",
    "    print(\"Obesidade\")"
   ]
  },
  {
   "cell_type": "markdown",
   "id": "1f0f66fe",
   "metadata": {},
   "source": [
    "## 132 If Elif Solucao Bmi"
   ]
  },
  {
   "cell_type": "code",
   "execution_count": null,
   "id": "55b4482a",
   "metadata": {},
   "outputs": [],
   "source": [
    "# Solução: função para cálculo de IMC\n",
    "def classificar_imc(peso, altura):\n",
    "    imc = peso / (altura ** 2)\n",
    "    if imc < 18.5:\n",
    "        return \"Abaixo do peso\"\n",
    "    elif imc < 25:\n",
    "        return \"Peso normal\"\n",
    "    elif imc < 30:\n",
    "        return \"Sobrepeso\"\n",
    "    else:\n",
    "        return \"Obesidade\"\n",
    "\n",
    "print(classificar_imc(70, 1.75))"
   ]
  }
 ],
 "metadata": {},
 "nbformat": 4,
 "nbformat_minor": 5
}